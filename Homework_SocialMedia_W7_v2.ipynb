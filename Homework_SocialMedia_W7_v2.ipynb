{
 "cells": [
  {
   "cell_type": "code",
   "execution_count": 1,
   "metadata": {
    "collapsed": true
   },
   "outputs": [],
   "source": [
    "import tweepy\n",
    "import json\n",
    "import seaborn as sns\n",
    "import matplotlib.pyplot as plt\n",
    "import pandas as pd\n",
    "import numpy as np\n",
    "\n",
    "# Initialize Sentiment Analyzer\n",
    "from vaderSentiment.vaderSentiment import SentimentIntensityAnalyzer\n",
    "analyzer = SentimentIntensityAnalyzer()"
   ]
  },
  {
   "cell_type": "code",
   "execution_count": 2,
   "metadata": {
    "collapsed": true
   },
   "outputs": [],
   "source": [
    "# Twitter API Keys\n",
    "consumer_key = \"7FdSE6Snr8E7ofgmm3z2azhfy\"\n",
    "consumer_secret = \"IA8opdrpYqLMgMzyFGTHLQEyYIFQEmJvFO1deDLhXfgsUhTXKw\"\n",
    "access_token = \"937017781572087808-kBaZmSm0aTBKXiyP4eRYifHw5gwMaYn\"\n",
    "access_token_secret = \"tDYO0z6Y6XIg2M6OPD3yFeKzvouyh3IZuwALUVlexsWMu\""
   ]
  },
  {
   "cell_type": "code",
   "execution_count": 31,
   "metadata": {
    "collapsed": true
   },
   "outputs": [],
   "source": [
    "# Setup Tweepy API Authentication\n",
    "auth = tweepy.OAuthHandler(consumer_key, consumer_secret)\n",
    "auth.set_access_token(access_token, access_token_secret)\n",
    "api = tweepy.API(auth, parser=tweepy.parsers.JSONParser())\n"
   ]
  },
  {
   "cell_type": "code",
   "execution_count": 41,
   "metadata": {},
   "outputs": [],
   "source": [
    "targets_list=(\"@BBCNews\",\"@CBSNews\",\"@CNN\",\"@FoxNews\",\"@nytimes\")\n",
    "data=[]\n",
    "oldest_tweet=\"\""
   ]
  },
  {
   "cell_type": "code",
   "execution_count": 42,
   "metadata": {},
   "outputs": [],
   "source": [
    "for target in targets_list:\n",
    "\n",
    "    public_tweets = api.user_timeline(target,count=100,result_type=\"recent\", max_id=oldest_tweet)\n",
    "    counter=0\n",
    "    \n",
    "    for tweet in public_tweets:\n",
    "        counter+=1\n",
    "        compound = analyzer.polarity_scores(tweet[\"text\"])[\"compound\"]\n",
    "        pos = analyzer.polarity_scores(tweet[\"text\"])[\"pos\"]\n",
    "        neu = analyzer.polarity_scores(tweet[\"text\"])[\"neu\"]\n",
    "        neg = analyzer.polarity_scores(tweet[\"text\"])[\"neg\"]\n",
    "        "
   ]
  },
  {
   "cell_type": "code",
   "execution_count": 43,
   "metadata": {
    "collapsed": true
   },
   "outputs": [],
   "source": [
    "data.append({\"Source\": tweet[\"user\"][\"screen_name\"],\"Tweet\": tweet[\"text\"],\"Date\": tweet[\"created_at\"], \"Compound\": compound,\n",
    " \"Positive\": pos, \"Negative\": neg, \"Neutral\": neu, \"count\": counter})"
   ]
  },
  {
   "cell_type": "code",
   "execution_count": 44,
   "metadata": {},
   "outputs": [
    {
     "data": {
      "text/html": [
       "<div>\n",
       "<style>\n",
       "    .dataframe thead tr:only-child th {\n",
       "        text-align: right;\n",
       "    }\n",
       "\n",
       "    .dataframe thead th {\n",
       "        text-align: left;\n",
       "    }\n",
       "\n",
       "    .dataframe tbody tr th {\n",
       "        vertical-align: top;\n",
       "    }\n",
       "</style>\n",
       "<table border=\"1\" class=\"dataframe\">\n",
       "  <thead>\n",
       "    <tr style=\"text-align: right;\">\n",
       "      <th></th>\n",
       "      <th>Compound</th>\n",
       "      <th>Date</th>\n",
       "      <th>Negative</th>\n",
       "      <th>Neutral</th>\n",
       "      <th>Positive</th>\n",
       "      <th>Source</th>\n",
       "      <th>Tweet</th>\n",
       "      <th>count</th>\n",
       "    </tr>\n",
       "  </thead>\n",
       "  <tbody>\n",
       "    <tr>\n",
       "      <th>0</th>\n",
       "      <td>-0.3612</td>\n",
       "      <td>Wed Dec 13 14:51:06 +0000 2017</td>\n",
       "      <td>0.122</td>\n",
       "      <td>0.878</td>\n",
       "      <td>0.0</td>\n",
       "      <td>nytimes</td>\n",
       "      <td>A man convicted of child sex offenses was turn...</td>\n",
       "      <td>0</td>\n",
       "    </tr>\n",
       "  </tbody>\n",
       "</table>\n",
       "</div>"
      ],
      "text/plain": [
       "   Compound                            Date  Negative  Neutral  Positive  \\\n",
       "0   -0.3612  Wed Dec 13 14:51:06 +0000 2017     0.122    0.878       0.0   \n",
       "\n",
       "    Source                                              Tweet  count  \n",
       "0  nytimes  A man convicted of child sex offenses was turn...      0  "
      ]
     },
     "execution_count": 44,
     "metadata": {},
     "output_type": "execute_result"
    }
   ],
   "source": [
    "# Convert data to DataFrame\n",
    "data_df= pd.DataFrame.from_dict(data)\n",
    "data_df.head(500)"
   ]
  },
  {
   "cell_type": "code",
   "execution_count": null,
   "metadata": {
    "collapsed": true
   },
   "outputs": [],
   "source": []
  }
 ],
 "metadata": {
  "kernelspec": {
   "display_name": "Python 3",
   "language": "python",
   "name": "python3"
  }
 },
 "nbformat": 4,
 "nbformat_minor": 2
}
