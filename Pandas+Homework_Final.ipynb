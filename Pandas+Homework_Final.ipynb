{
 "cells": [
  {
   "cell_type": "code",
   "execution_count": 28,
   "metadata": {
    "collapsed": true
   },
   "outputs": [],
   "source": [
    "import pandas as pd"
   ]
  },
  {
   "cell_type": "code",
   "execution_count": 29,
   "metadata": {
    "collapsed": true,
    "scrolled": true
   },
   "outputs": [],
   "source": [
    "mydata = \"/Users/chris/Documents/Resources/purchase_data_games.csv\"\n"
   ]
  },
  {
   "cell_type": "code",
   "execution_count": 30,
   "metadata": {},
   "outputs": [
    {
     "data": {
      "text/html": [
       "<div>\n",
       "<style>\n",
       "    .dataframe thead tr:only-child th {\n",
       "        text-align: right;\n",
       "    }\n",
       "\n",
       "    .dataframe thead th {\n",
       "        text-align: left;\n",
       "    }\n",
       "\n",
       "    .dataframe tbody tr th {\n",
       "        vertical-align: top;\n",
       "    }\n",
       "</style>\n",
       "<table border=\"1\" class=\"dataframe\">\n",
       "  <thead>\n",
       "    <tr style=\"text-align: right;\">\n",
       "      <th></th>\n",
       "      <th>SN</th>\n",
       "      <th>Age</th>\n",
       "      <th>Gender</th>\n",
       "      <th>Item ID</th>\n",
       "      <th>Item Name</th>\n",
       "      <th>Price</th>\n",
       "    </tr>\n",
       "  </thead>\n",
       "  <tbody>\n",
       "    <tr>\n",
       "      <th>0</th>\n",
       "      <td>Aelalis34</td>\n",
       "      <td>38</td>\n",
       "      <td>Male</td>\n",
       "      <td>165</td>\n",
       "      <td>Bone Crushing Silver Skewer</td>\n",
       "      <td>3.37</td>\n",
       "    </tr>\n",
       "    <tr>\n",
       "      <th>1</th>\n",
       "      <td>Eolo46</td>\n",
       "      <td>21</td>\n",
       "      <td>Male</td>\n",
       "      <td>119</td>\n",
       "      <td>Stormbringer, Dark Blade of Ending Misery</td>\n",
       "      <td>2.32</td>\n",
       "    </tr>\n",
       "    <tr>\n",
       "      <th>2</th>\n",
       "      <td>Assastnya25</td>\n",
       "      <td>34</td>\n",
       "      <td>Male</td>\n",
       "      <td>174</td>\n",
       "      <td>Primitive Blade</td>\n",
       "      <td>2.46</td>\n",
       "    </tr>\n",
       "    <tr>\n",
       "      <th>3</th>\n",
       "      <td>Pheusrical25</td>\n",
       "      <td>21</td>\n",
       "      <td>Male</td>\n",
       "      <td>92</td>\n",
       "      <td>Final Critic</td>\n",
       "      <td>1.36</td>\n",
       "    </tr>\n",
       "    <tr>\n",
       "      <th>4</th>\n",
       "      <td>Aela59</td>\n",
       "      <td>23</td>\n",
       "      <td>Male</td>\n",
       "      <td>63</td>\n",
       "      <td>Stormfury Mace</td>\n",
       "      <td>1.27</td>\n",
       "    </tr>\n",
       "  </tbody>\n",
       "</table>\n",
       "</div>"
      ],
      "text/plain": [
       "             SN  Age Gender  Item ID  \\\n",
       "0     Aelalis34   38   Male      165   \n",
       "1        Eolo46   21   Male      119   \n",
       "2   Assastnya25   34   Male      174   \n",
       "3  Pheusrical25   21   Male       92   \n",
       "4        Aela59   23   Male       63   \n",
       "\n",
       "                                   Item Name  Price  \n",
       "0                Bone Crushing Silver Skewer   3.37  \n",
       "1  Stormbringer, Dark Blade of Ending Misery   2.32  \n",
       "2                            Primitive Blade   2.46  \n",
       "3                               Final Critic   1.36  \n",
       "4                             Stormfury Mace   1.27  "
      ]
     },
     "execution_count": 30,
     "metadata": {},
     "output_type": "execute_result"
    }
   ],
   "source": [
    "mydata2 = pd.read_csv(mydata, encoding='iso-8859-1', low_memory=False)\n",
    "mydata2.head()"
   ]
  },
  {
   "cell_type": "code",
   "execution_count": 31,
   "metadata": {},
   "outputs": [
    {
     "data": {
      "text/plain": [
       "573"
      ]
     },
     "execution_count": 31,
     "metadata": {},
     "output_type": "execute_result"
    }
   ],
   "source": [
    "# count of player. it's a distinct count.\n",
    "player_unique_count = mydata2[\"SN\"].nunique()\n",
    "player_unique_count"
   ]
  },
  {
   "cell_type": "code",
   "execution_count": 32,
   "metadata": {},
   "outputs": [
    {
     "data": {
      "text/plain": [
       "183"
      ]
     },
     "execution_count": 32,
     "metadata": {},
     "output_type": "execute_result"
    }
   ],
   "source": [
    "# count of unique items based on item ID.\n",
    "items_unique = mydata2[\"Item ID\"].nunique()\n",
    "items_unique"
   ]
  },
  {
   "cell_type": "code",
   "execution_count": 33,
   "metadata": {},
   "outputs": [
    {
     "data": {
      "text/plain": [
       "2.931192307692303"
      ]
     },
     "execution_count": 33,
     "metadata": {},
     "output_type": "execute_result"
    }
   ],
   "source": [
    "# Average purchase price\n",
    "purchase_mean = mydata2[\"Price\"].mean()\n",
    "purchase_mean"
   ]
  },
  {
   "cell_type": "code",
   "execution_count": 34,
   "metadata": {},
   "outputs": [
    {
     "data": {
      "text/plain": [
       "780"
      ]
     },
     "execution_count": 34,
     "metadata": {},
     "output_type": "execute_result"
    }
   ],
   "source": [
    "# Total Purchase\n",
    "purchase_count = len(mydata2)\n",
    "purchase_count"
   ]
  },
  {
   "cell_type": "code",
   "execution_count": 35,
   "metadata": {},
   "outputs": [
    {
     "data": {
      "text/plain": [
       "2286.3299999999963"
      ]
     },
     "execution_count": 35,
     "metadata": {},
     "output_type": "execute_result"
    }
   ],
   "source": [
    "# Total Revenue\n",
    "total_revenue = mydata2[\"Price\"].sum()\n",
    "total_revenue"
   ]
  },
  {
   "cell_type": "code",
   "execution_count": 36,
   "metadata": {},
   "outputs": [
    {
     "data": {
      "text/html": [
       "<div>\n",
       "<style>\n",
       "    .dataframe thead tr:only-child th {\n",
       "        text-align: right;\n",
       "    }\n",
       "\n",
       "    .dataframe thead th {\n",
       "        text-align: left;\n",
       "    }\n",
       "\n",
       "    .dataframe tbody tr th {\n",
       "        vertical-align: top;\n",
       "    }\n",
       "</style>\n",
       "<table border=\"1\" class=\"dataframe\">\n",
       "  <thead>\n",
       "    <tr style=\"text-align: right;\">\n",
       "      <th></th>\n",
       "      <th>SN</th>\n",
       "      <th>Age</th>\n",
       "      <th>Gender</th>\n",
       "      <th>Item ID</th>\n",
       "      <th>Item Name</th>\n",
       "      <th>Price</th>\n",
       "    </tr>\n",
       "  </thead>\n",
       "  <tbody>\n",
       "    <tr>\n",
       "      <th>0</th>\n",
       "      <td>Aelalis34</td>\n",
       "      <td>38</td>\n",
       "      <td>Male</td>\n",
       "      <td>165</td>\n",
       "      <td>Bone Crushing Silver Skewer</td>\n",
       "      <td>3.37</td>\n",
       "    </tr>\n",
       "    <tr>\n",
       "      <th>1</th>\n",
       "      <td>Eolo46</td>\n",
       "      <td>21</td>\n",
       "      <td>Male</td>\n",
       "      <td>119</td>\n",
       "      <td>Stormbringer, Dark Blade of Ending Misery</td>\n",
       "      <td>2.32</td>\n",
       "    </tr>\n",
       "    <tr>\n",
       "      <th>2</th>\n",
       "      <td>Assastnya25</td>\n",
       "      <td>34</td>\n",
       "      <td>Male</td>\n",
       "      <td>174</td>\n",
       "      <td>Primitive Blade</td>\n",
       "      <td>2.46</td>\n",
       "    </tr>\n",
       "    <tr>\n",
       "      <th>3</th>\n",
       "      <td>Pheusrical25</td>\n",
       "      <td>21</td>\n",
       "      <td>Male</td>\n",
       "      <td>92</td>\n",
       "      <td>Final Critic</td>\n",
       "      <td>1.36</td>\n",
       "    </tr>\n",
       "    <tr>\n",
       "      <th>4</th>\n",
       "      <td>Aela59</td>\n",
       "      <td>23</td>\n",
       "      <td>Male</td>\n",
       "      <td>63</td>\n",
       "      <td>Stormfury Mace</td>\n",
       "      <td>1.27</td>\n",
       "    </tr>\n",
       "  </tbody>\n",
       "</table>\n",
       "</div>"
      ],
      "text/plain": [
       "             SN  Age Gender  Item ID  \\\n",
       "0     Aelalis34   38   Male      165   \n",
       "1        Eolo46   21   Male      119   \n",
       "2   Assastnya25   34   Male      174   \n",
       "3  Pheusrical25   21   Male       92   \n",
       "4        Aela59   23   Male       63   \n",
       "\n",
       "                                   Item Name  Price  \n",
       "0                Bone Crushing Silver Skewer   3.37  \n",
       "1  Stormbringer, Dark Blade of Ending Misery   2.32  \n",
       "2                            Primitive Blade   2.46  \n",
       "3                               Final Critic   1.36  \n",
       "4                             Stormfury Mace   1.27  "
      ]
     },
     "execution_count": 36,
     "metadata": {},
     "output_type": "execute_result"
    }
   ],
   "source": [
    "# Filter data to get male only\n",
    "male_count = mydata2.loc[mydata2[\"Gender\"] == \"Male\"]\n",
    "male_count.head()"
   ]
  },
  {
   "cell_type": "code",
   "execution_count": 37,
   "metadata": {
    "scrolled": true
   },
   "outputs": [
    {
     "name": "stdout",
     "output_type": "stream",
     "text": [
      "Total Male: 465\n",
      "Percentage Male: 81.15183246073299\n"
     ]
    }
   ],
   "source": [
    "# count of Male\n",
    "male_count_distinct=male_count[\"SN\"].nunique()\n",
    "male_percentage = (male_count_distinct/player_unique_count)*100\n",
    "print(f\"Total Male: {male_count_distinct}\\nPercentage Male: {male_percentage}\")"
   ]
  },
  {
   "cell_type": "code",
   "execution_count": 38,
   "metadata": {},
   "outputs": [
    {
     "data": {
      "text/html": [
       "<div>\n",
       "<style>\n",
       "    .dataframe thead tr:only-child th {\n",
       "        text-align: right;\n",
       "    }\n",
       "\n",
       "    .dataframe thead th {\n",
       "        text-align: left;\n",
       "    }\n",
       "\n",
       "    .dataframe tbody tr th {\n",
       "        vertical-align: top;\n",
       "    }\n",
       "</style>\n",
       "<table border=\"1\" class=\"dataframe\">\n",
       "  <thead>\n",
       "    <tr style=\"text-align: right;\">\n",
       "      <th></th>\n",
       "      <th>SN</th>\n",
       "      <th>Age</th>\n",
       "      <th>Gender</th>\n",
       "      <th>Item ID</th>\n",
       "      <th>Item Name</th>\n",
       "      <th>Price</th>\n",
       "    </tr>\n",
       "  </thead>\n",
       "  <tbody>\n",
       "    <tr>\n",
       "      <th>7</th>\n",
       "      <td>Iathenudil29</td>\n",
       "      <td>29</td>\n",
       "      <td>Female</td>\n",
       "      <td>169</td>\n",
       "      <td>Interrogator, Blood Blade of the Queen</td>\n",
       "      <td>3.32</td>\n",
       "    </tr>\n",
       "    <tr>\n",
       "      <th>16</th>\n",
       "      <td>Sundista85</td>\n",
       "      <td>22</td>\n",
       "      <td>Female</td>\n",
       "      <td>123</td>\n",
       "      <td>Twilight's Carver</td>\n",
       "      <td>1.14</td>\n",
       "    </tr>\n",
       "    <tr>\n",
       "      <th>17</th>\n",
       "      <td>Aenarap34</td>\n",
       "      <td>22</td>\n",
       "      <td>Female</td>\n",
       "      <td>59</td>\n",
       "      <td>Lightning, Etcher of the King</td>\n",
       "      <td>1.65</td>\n",
       "    </tr>\n",
       "    <tr>\n",
       "      <th>22</th>\n",
       "      <td>Deural48</td>\n",
       "      <td>11</td>\n",
       "      <td>Female</td>\n",
       "      <td>11</td>\n",
       "      <td>Brimstone</td>\n",
       "      <td>2.52</td>\n",
       "    </tr>\n",
       "    <tr>\n",
       "      <th>29</th>\n",
       "      <td>Phaedai25</td>\n",
       "      <td>16</td>\n",
       "      <td>Female</td>\n",
       "      <td>45</td>\n",
       "      <td>Glinting Glass Edge</td>\n",
       "      <td>2.46</td>\n",
       "    </tr>\n",
       "  </tbody>\n",
       "</table>\n",
       "</div>"
      ],
      "text/plain": [
       "              SN  Age  Gender  Item ID  \\\n",
       "7   Iathenudil29   29  Female      169   \n",
       "16    Sundista85   22  Female      123   \n",
       "17     Aenarap34   22  Female       59   \n",
       "22      Deural48   11  Female       11   \n",
       "29     Phaedai25   16  Female       45   \n",
       "\n",
       "                                 Item Name  Price  \n",
       "7   Interrogator, Blood Blade of the Queen   3.32  \n",
       "16                       Twilight's Carver   1.14  \n",
       "17           Lightning, Etcher of the King   1.65  \n",
       "22                               Brimstone   2.52  \n",
       "29                     Glinting Glass Edge   2.46  "
      ]
     },
     "execution_count": 38,
     "metadata": {},
     "output_type": "execute_result"
    }
   ],
   "source": [
    "# Filter data to get female only\n",
    "female_count = mydata2.loc[mydata2[\"Gender\"] == \"Female\"]\n",
    "female_count.head()"
   ]
  },
  {
   "cell_type": "code",
   "execution_count": 39,
   "metadata": {},
   "outputs": [
    {
     "name": "stdout",
     "output_type": "stream",
     "text": [
      "Total Female:100\n",
      "Percentage Female:17.452006980802793\n"
     ]
    }
   ],
   "source": [
    "# count of Female\n",
    "female_count_distinct=female_count[\"SN\"].nunique()\n",
    "female_percentage = (female_count_distinct/player_unique_count)*100\n",
    "print(f\"Total Female:{female_count_distinct}\\nPercentage Female:{female_percentage}\")"
   ]
  },
  {
   "cell_type": "code",
   "execution_count": 40,
   "metadata": {},
   "outputs": [
    {
     "name": "stdout",
     "output_type": "stream",
     "text": [
      "Total Others:8\n",
      "Percentage Others:1.3961605584642234\n"
     ]
    }
   ],
   "source": [
    "# others count\n",
    "others_count = player_unique_count - (male_count_distinct+female_count_distinct)\n",
    "percentage_others = (others_count/player_unique_count)*100\n",
    "print(f\"Total Others:{others_count}\\nPercentage Others:{percentage_others}\")"
   ]
  },
  {
   "cell_type": "code",
   "execution_count": 41,
   "metadata": {},
   "outputs": [
    {
     "data": {
      "text/html": [
       "<div>\n",
       "<style>\n",
       "    .dataframe thead tr:only-child th {\n",
       "        text-align: right;\n",
       "    }\n",
       "\n",
       "    .dataframe thead th {\n",
       "        text-align: left;\n",
       "    }\n",
       "\n",
       "    .dataframe tbody tr th {\n",
       "        vertical-align: top;\n",
       "    }\n",
       "</style>\n",
       "<table border=\"1\" class=\"dataframe\">\n",
       "  <thead>\n",
       "    <tr style=\"text-align: right;\">\n",
       "      <th></th>\n",
       "      <th>Gender</th>\n",
       "      <th>Purchase Count</th>\n",
       "    </tr>\n",
       "  </thead>\n",
       "  <tbody>\n",
       "    <tr>\n",
       "      <th>0</th>\n",
       "      <td>Male</td>\n",
       "      <td>633</td>\n",
       "    </tr>\n",
       "  </tbody>\n",
       "</table>\n",
       "</div>"
      ],
      "text/plain": [
       "  Gender  Purchase Count\n",
       "0   Male             633"
      ]
     },
     "execution_count": 41,
     "metadata": {},
     "output_type": "execute_result"
    }
   ],
   "source": [
    "# DF to get Purchase Count\n",
    "male_data_pcount=pd.DataFrame(male_count.groupby(\"Gender\")[\"Item ID\"].count())\n",
    "male_data_pcount.reset_index(inplace=True)\n",
    "male_data_pcount.columns=[\"Gender\",\"Purchase Count\"]\n",
    "male_data_pcount.head()\n",
    "\n",
    "\n"
   ]
  },
  {
   "cell_type": "code",
   "execution_count": 42,
   "metadata": {},
   "outputs": [
    {
     "data": {
      "text/html": [
       "<div>\n",
       "<style>\n",
       "    .dataframe thead tr:only-child th {\n",
       "        text-align: right;\n",
       "    }\n",
       "\n",
       "    .dataframe thead th {\n",
       "        text-align: left;\n",
       "    }\n",
       "\n",
       "    .dataframe tbody tr th {\n",
       "        vertical-align: top;\n",
       "    }\n",
       "</style>\n",
       "<table border=\"1\" class=\"dataframe\">\n",
       "  <thead>\n",
       "    <tr style=\"text-align: right;\">\n",
       "      <th></th>\n",
       "      <th>Gender</th>\n",
       "      <th>Average Price</th>\n",
       "    </tr>\n",
       "  </thead>\n",
       "  <tbody>\n",
       "    <tr>\n",
       "      <th>0</th>\n",
       "      <td>Male</td>\n",
       "      <td>2.950521</td>\n",
       "    </tr>\n",
       "  </tbody>\n",
       "</table>\n",
       "</div>"
      ],
      "text/plain": [
       "  Gender  Average Price\n",
       "0   Male       2.950521"
      ]
     },
     "execution_count": 42,
     "metadata": {},
     "output_type": "execute_result"
    }
   ],
   "source": [
    "# DF to get Price Average\n",
    "male_data_paverage=pd.DataFrame(male_count.groupby(\"Gender\")[\"Price\"].mean())\n",
    "male_data_paverage.reset_index(inplace=True)\n",
    "male_data_paverage.columns=[\"Gender\",\"Average Price\"]\n",
    "male_data_paverage.head()"
   ]
  },
  {
   "cell_type": "code",
   "execution_count": 43,
   "metadata": {},
   "outputs": [
    {
     "data": {
      "text/html": [
       "<div>\n",
       "<style>\n",
       "    .dataframe thead tr:only-child th {\n",
       "        text-align: right;\n",
       "    }\n",
       "\n",
       "    .dataframe thead th {\n",
       "        text-align: left;\n",
       "    }\n",
       "\n",
       "    .dataframe tbody tr th {\n",
       "        vertical-align: top;\n",
       "    }\n",
       "</style>\n",
       "<table border=\"1\" class=\"dataframe\">\n",
       "  <thead>\n",
       "    <tr style=\"text-align: right;\">\n",
       "      <th></th>\n",
       "      <th>Gender</th>\n",
       "      <th>Total Price</th>\n",
       "    </tr>\n",
       "  </thead>\n",
       "  <tbody>\n",
       "    <tr>\n",
       "      <th>0</th>\n",
       "      <td>Male</td>\n",
       "      <td>1867.68</td>\n",
       "    </tr>\n",
       "  </tbody>\n",
       "</table>\n",
       "</div>"
      ],
      "text/plain": [
       "  Gender  Total Price\n",
       "0   Male      1867.68"
      ]
     },
     "execution_count": 43,
     "metadata": {},
     "output_type": "execute_result"
    }
   ],
   "source": [
    "# DF to get Total Purchase\n",
    "male_data_ptotal=pd.DataFrame(male_count.groupby(\"Gender\")[\"Price\"].sum())\n",
    "male_data_ptotal.reset_index(inplace=True)\n",
    "male_data_ptotal.columns=[\"Gender\",\"Total Price\"]\n",
    "male_data_ptotal.head()"
   ]
  },
  {
   "cell_type": "code",
   "execution_count": 44,
   "metadata": {},
   "outputs": [
    {
     "data": {
      "text/html": [
       "<div>\n",
       "<style>\n",
       "    .dataframe thead tr:only-child th {\n",
       "        text-align: right;\n",
       "    }\n",
       "\n",
       "    .dataframe thead th {\n",
       "        text-align: left;\n",
       "    }\n",
       "\n",
       "    .dataframe tbody tr th {\n",
       "        vertical-align: top;\n",
       "    }\n",
       "</style>\n",
       "<table border=\"1\" class=\"dataframe\">\n",
       "  <thead>\n",
       "    <tr style=\"text-align: right;\">\n",
       "      <th></th>\n",
       "      <th>Gender</th>\n",
       "      <th>Purchase Count</th>\n",
       "      <th>Average Price</th>\n",
       "    </tr>\n",
       "  </thead>\n",
       "  <tbody>\n",
       "    <tr>\n",
       "      <th>0</th>\n",
       "      <td>Male</td>\n",
       "      <td>633</td>\n",
       "      <td>2.950521</td>\n",
       "    </tr>\n",
       "  </tbody>\n",
       "</table>\n",
       "</div>"
      ],
      "text/plain": [
       "  Gender  Purchase Count  Average Price\n",
       "0   Male             633       2.950521"
      ]
     },
     "execution_count": 44,
     "metadata": {},
     "output_type": "execute_result"
    }
   ],
   "source": [
    "# Male Merged Data_step1\n",
    "male_merged1=pd.merge(male_data_pcount, male_data_paverage, on=\"Gender\")\n",
    "male_merged1.head()"
   ]
  },
  {
   "cell_type": "code",
   "execution_count": 45,
   "metadata": {},
   "outputs": [
    {
     "data": {
      "text/html": [
       "<div>\n",
       "<style>\n",
       "    .dataframe thead tr:only-child th {\n",
       "        text-align: right;\n",
       "    }\n",
       "\n",
       "    .dataframe thead th {\n",
       "        text-align: left;\n",
       "    }\n",
       "\n",
       "    .dataframe tbody tr th {\n",
       "        vertical-align: top;\n",
       "    }\n",
       "</style>\n",
       "<table border=\"1\" class=\"dataframe\">\n",
       "  <thead>\n",
       "    <tr style=\"text-align: right;\">\n",
       "      <th></th>\n",
       "      <th>Gender</th>\n",
       "      <th>Purchase Count</th>\n",
       "      <th>Average Price</th>\n",
       "      <th>Total Price</th>\n",
       "    </tr>\n",
       "  </thead>\n",
       "  <tbody>\n",
       "    <tr>\n",
       "      <th>0</th>\n",
       "      <td>Male</td>\n",
       "      <td>633</td>\n",
       "      <td>2.950521</td>\n",
       "      <td>1867.68</td>\n",
       "    </tr>\n",
       "  </tbody>\n",
       "</table>\n",
       "</div>"
      ],
      "text/plain": [
       "  Gender  Purchase Count  Average Price  Total Price\n",
       "0   Male             633       2.950521      1867.68"
      ]
     },
     "execution_count": 45,
     "metadata": {},
     "output_type": "execute_result"
    }
   ],
   "source": [
    "# Male stats complete merge\n",
    "male_stat_complete=pd.merge(male_merged1,male_data_ptotal, on=\"Gender\")\n",
    "male_stat_complete.head()"
   ]
  },
  {
   "cell_type": "code",
   "execution_count": 46,
   "metadata": {},
   "outputs": [
    {
     "data": {
      "text/html": [
       "<div>\n",
       "<style>\n",
       "    .dataframe thead tr:only-child th {\n",
       "        text-align: right;\n",
       "    }\n",
       "\n",
       "    .dataframe thead th {\n",
       "        text-align: left;\n",
       "    }\n",
       "\n",
       "    .dataframe tbody tr th {\n",
       "        vertical-align: top;\n",
       "    }\n",
       "</style>\n",
       "<table border=\"1\" class=\"dataframe\">\n",
       "  <thead>\n",
       "    <tr style=\"text-align: right;\">\n",
       "      <th></th>\n",
       "      <th>Gender</th>\n",
       "      <th>Purchase Count</th>\n",
       "      <th>Average Price</th>\n",
       "      <th>Total Price</th>\n",
       "    </tr>\n",
       "  </thead>\n",
       "  <tbody>\n",
       "    <tr>\n",
       "      <th>0</th>\n",
       "      <td>Female</td>\n",
       "      <td>136</td>\n",
       "      <td>2.815515</td>\n",
       "      <td>382.91</td>\n",
       "    </tr>\n",
       "  </tbody>\n",
       "</table>\n",
       "</div>"
      ],
      "text/plain": [
       "   Gender  Purchase Count  Average Price  Total Price\n",
       "0  Female             136       2.815515       382.91"
      ]
     },
     "execution_count": 46,
     "metadata": {},
     "output_type": "execute_result"
    }
   ],
   "source": [
    "# Female stats complete merge\n",
    "female_data_pcount=pd.DataFrame(female_count.groupby(\"Gender\")[\"Item ID\"].count())\n",
    "female_data_pcount.reset_index(inplace=True)\n",
    "female_data_pcount.columns=[\"Gender\",\"Purchase Count\"]\n",
    "\n",
    "female_data_paverage=pd.DataFrame(female_count.groupby(\"Gender\")[\"Price\"].mean())\n",
    "female_data_paverage.reset_index(inplace=True)\n",
    "female_data_paverage.columns=[\"Gender\",\"Average Price\"]\n",
    "\n",
    "female_data_ptotal=pd.DataFrame(female_count.groupby(\"Gender\")[\"Price\"].sum())\n",
    "female_data_ptotal.reset_index(inplace=True)\n",
    "female_data_ptotal.columns=[\"Gender\",\"Total Price\"]\n",
    "\n",
    "female_merged1=pd.merge(female_data_pcount, female_data_paverage, on=\"Gender\")\n",
    "female_stat_complete=pd.merge(female_merged1,female_data_ptotal, on=\"Gender\")\n",
    "female_stat_complete.head()\n"
   ]
  },
  {
   "cell_type": "code",
   "execution_count": 47,
   "metadata": {},
   "outputs": [
    {
     "data": {
      "text/html": [
       "<div>\n",
       "<style>\n",
       "    .dataframe thead tr:only-child th {\n",
       "        text-align: right;\n",
       "    }\n",
       "\n",
       "    .dataframe thead th {\n",
       "        text-align: left;\n",
       "    }\n",
       "\n",
       "    .dataframe tbody tr th {\n",
       "        vertical-align: top;\n",
       "    }\n",
       "</style>\n",
       "<table border=\"1\" class=\"dataframe\">\n",
       "  <thead>\n",
       "    <tr style=\"text-align: right;\">\n",
       "      <th></th>\n",
       "      <th>Gender</th>\n",
       "      <th>Purchase Count</th>\n",
       "      <th>Average Price</th>\n",
       "      <th>Total Price</th>\n",
       "    </tr>\n",
       "  </thead>\n",
       "  <tbody>\n",
       "    <tr>\n",
       "      <th>0</th>\n",
       "      <td>Other / Non-Disclosed</td>\n",
       "      <td>11</td>\n",
       "      <td>3.249091</td>\n",
       "      <td>35.74</td>\n",
       "    </tr>\n",
       "  </tbody>\n",
       "</table>\n",
       "</div>"
      ],
      "text/plain": [
       "                  Gender  Purchase Count  Average Price  Total Price\n",
       "0  Other / Non-Disclosed              11       3.249091        35.74"
      ]
     },
     "execution_count": 47,
     "metadata": {},
     "output_type": "execute_result"
    }
   ],
   "source": [
    "# Other stats complete merge\n",
    "others_count = mydata2.loc[mydata2[\"Gender\"] == \"Other / Non-Disclosed\"]\n",
    "\n",
    "others_data_pcount=pd.DataFrame(others_count.groupby(\"Gender\")[\"Item ID\"].count())\n",
    "others_data_pcount.reset_index(inplace=True)\n",
    "others_data_pcount.columns=[\"Gender\",\"Purchase Count\"]\n",
    "\n",
    "others_data_paverage=pd.DataFrame(others_count.groupby(\"Gender\")[\"Price\"].mean())\n",
    "others_data_paverage.reset_index(inplace=True)\n",
    "others_data_paverage.columns=[\"Gender\",\"Average Price\"]\n",
    "\n",
    "others_data_ptotal=pd.DataFrame(others_count.groupby(\"Gender\")[\"Price\"].sum())\n",
    "others_data_ptotal.reset_index(inplace=True)\n",
    "others_data_ptotal.columns=[\"Gender\",\"Total Price\"]\n",
    "\n",
    "others_merged1=pd.merge(others_data_pcount, others_data_paverage, on=\"Gender\")\n",
    "others_stat_complete=pd.merge(others_merged1,others_data_ptotal, on=\"Gender\")\n",
    "others_stat_complete.head()"
   ]
  },
  {
   "cell_type": "code",
   "execution_count": 49,
   "metadata": {},
   "outputs": [
    {
     "data": {
      "text/html": [
       "<div>\n",
       "<style>\n",
       "    .dataframe thead tr:only-child th {\n",
       "        text-align: right;\n",
       "    }\n",
       "\n",
       "    .dataframe thead th {\n",
       "        text-align: left;\n",
       "    }\n",
       "\n",
       "    .dataframe tbody tr th {\n",
       "        vertical-align: top;\n",
       "    }\n",
       "</style>\n",
       "<table border=\"1\" class=\"dataframe\">\n",
       "  <thead>\n",
       "    <tr style=\"text-align: right;\">\n",
       "      <th></th>\n",
       "      <th>SN</th>\n",
       "      <th>Purchase count</th>\n",
       "      <th>Average Purchase</th>\n",
       "      <th>Total Purchase Price</th>\n",
       "    </tr>\n",
       "  </thead>\n",
       "  <tbody>\n",
       "    <tr>\n",
       "      <th>538</th>\n",
       "      <td>Undirrala66</td>\n",
       "      <td>5</td>\n",
       "      <td>3.412000</td>\n",
       "      <td>17.06</td>\n",
       "    </tr>\n",
       "    <tr>\n",
       "      <th>428</th>\n",
       "      <td>Saedue76</td>\n",
       "      <td>4</td>\n",
       "      <td>3.390000</td>\n",
       "      <td>13.56</td>\n",
       "    </tr>\n",
       "    <tr>\n",
       "      <th>354</th>\n",
       "      <td>Mindimnya67</td>\n",
       "      <td>4</td>\n",
       "      <td>3.185000</td>\n",
       "      <td>12.74</td>\n",
       "    </tr>\n",
       "    <tr>\n",
       "      <th>181</th>\n",
       "      <td>Haellysu29</td>\n",
       "      <td>3</td>\n",
       "      <td>4.243333</td>\n",
       "      <td>12.73</td>\n",
       "    </tr>\n",
       "    <tr>\n",
       "      <th>120</th>\n",
       "      <td>Eoda93</td>\n",
       "      <td>3</td>\n",
       "      <td>3.860000</td>\n",
       "      <td>11.58</td>\n",
       "    </tr>\n",
       "  </tbody>\n",
       "</table>\n",
       "</div>"
      ],
      "text/plain": [
       "              SN  Purchase count  Average Purchase  Total Purchase Price\n",
       "538  Undirrala66               5          3.412000                 17.06\n",
       "428     Saedue76               4          3.390000                 13.56\n",
       "354  Mindimnya67               4          3.185000                 12.74\n",
       "181   Haellysu29               3          4.243333                 12.73\n",
       "120       Eoda93               3          3.860000                 11.58"
      ]
     },
     "execution_count": 49,
     "metadata": {},
     "output_type": "execute_result"
    }
   ],
   "source": [
    "# Top 5 spenders. total price by distinct players\n",
    "top_spenders = pd.DataFrame(mydata2.groupby(\"SN\")[\"Price\"].count())\n",
    "top_spenders.reset_index(inplace=True)\n",
    "top_spenders.columns=[\"SN\",\"Purchase count\"]\n",
    "\n",
    "\n",
    "top_spenders1 = pd.DataFrame(mydata2.groupby(\"SN\")[\"Price\"].mean())\n",
    "top_spenders1.reset_index(inplace=True)\n",
    "top_spenders1.columns=[\"SN\",\"Average Purchase\"]\n",
    "\n",
    "top_spenders2 = pd.DataFrame(mydata2.groupby(\"SN\")[\"Price\"].sum())\n",
    "top_spenders2.reset_index(inplace=True)\n",
    "top_spenders2.columns=[\"SN\",\"Total Purchase Price\"]\n",
    "\n",
    "\n",
    "merge1=pd.merge(top_spenders,top_spenders1,on=\"SN\")\n",
    "merge2=pd.merge(merge1,top_spenders2,on=\"SN\")\n",
    "\n",
    "\n",
    "top_5_spenders = merge2.sort_values([\"Total Purchase Price\"],ascending=[False])\n",
    "top_5_spenders.head(5)\n",
    "    "
   ]
  },
  {
   "cell_type": "code",
   "execution_count": 91,
   "metadata": {},
   "outputs": [
    {
     "data": {
      "text/html": [
       "<div>\n",
       "<style>\n",
       "    .dataframe thead tr:only-child th {\n",
       "        text-align: right;\n",
       "    }\n",
       "\n",
       "    .dataframe thead th {\n",
       "        text-align: left;\n",
       "    }\n",
       "\n",
       "    .dataframe tbody tr th {\n",
       "        vertical-align: top;\n",
       "    }\n",
       "</style>\n",
       "<table border=\"1\" class=\"dataframe\">\n",
       "  <thead>\n",
       "    <tr style=\"text-align: right;\">\n",
       "      <th></th>\n",
       "      <th>Item ID</th>\n",
       "      <th>Item Name</th>\n",
       "      <th>Item Price</th>\n",
       "      <th>Purchase count</th>\n",
       "      <th>Total Purchase Price</th>\n",
       "    </tr>\n",
       "  </thead>\n",
       "  <tbody>\n",
       "    <tr>\n",
       "      <th>39</th>\n",
       "      <td>39</td>\n",
       "      <td>Betrayal, Whisper of Grieving Widows</td>\n",
       "      <td>2.35</td>\n",
       "      <td>11</td>\n",
       "      <td>25.85</td>\n",
       "    </tr>\n",
       "    <tr>\n",
       "      <th>84</th>\n",
       "      <td>84</td>\n",
       "      <td>Arcane Gem</td>\n",
       "      <td>2.23</td>\n",
       "      <td>11</td>\n",
       "      <td>24.53</td>\n",
       "    </tr>\n",
       "    <tr>\n",
       "      <th>31</th>\n",
       "      <td>31</td>\n",
       "      <td>Trickster</td>\n",
       "      <td>2.07</td>\n",
       "      <td>9</td>\n",
       "      <td>18.63</td>\n",
       "    </tr>\n",
       "    <tr>\n",
       "      <th>174</th>\n",
       "      <td>175</td>\n",
       "      <td>Woeful Adamantite Claymore</td>\n",
       "      <td>1.24</td>\n",
       "      <td>9</td>\n",
       "      <td>11.16</td>\n",
       "    </tr>\n",
       "    <tr>\n",
       "      <th>13</th>\n",
       "      <td>13</td>\n",
       "      <td>Serenity</td>\n",
       "      <td>1.49</td>\n",
       "      <td>9</td>\n",
       "      <td>13.41</td>\n",
       "    </tr>\n",
       "  </tbody>\n",
       "</table>\n",
       "</div>"
      ],
      "text/plain": [
       "     Item ID                             Item Name  Item Price  \\\n",
       "39        39  Betrayal, Whisper of Grieving Widows        2.35   \n",
       "84        84                            Arcane Gem        2.23   \n",
       "31        31                             Trickster        2.07   \n",
       "174      175            Woeful Adamantite Claymore        1.24   \n",
       "13        13                              Serenity        1.49   \n",
       "\n",
       "     Purchase count  Total Purchase Price  \n",
       "39               11                 25.85  \n",
       "84               11                 24.53  \n",
       "31                9                 18.63  \n",
       "174               9                 11.16  \n",
       "13                9                 13.41  "
      ]
     },
     "execution_count": 91,
     "metadata": {},
     "output_type": "execute_result"
    }
   ],
   "source": [
    "# Top 5 Popular items\n",
    "top_popular = pd.DataFrame(mydata2.groupby([\"Item ID\",\"Item Name\",\"Price\"])[\"SN\"].count())\n",
    "top_popular.reset_index(inplace=True)\n",
    "top_popular.columns=[\"Item ID\",\"Item Name\",\"Item Price\",\"Purchase count\"]\n",
    "\n",
    "top_popular1 = pd.DataFrame(mydata2.groupby(\"Item ID\")[\"Price\"].sum())\n",
    "top_popular1.reset_index(inplace=True)\n",
    "top_popular1.columns=[\"Item ID\",\"Total Purchase Price\"]\n",
    "\n",
    "new_table=pd.merge(top_popular,top_popular1,on=\"Item ID\")\n",
    "\n",
    "top_5_popular = new_table.sort_values([\"Purchase count\"],ascending=[False])\n",
    "top_5_popular.columns=[\"Item ID\",\"Item Name\",\"Item Price\",\"Purchase count\",\"Total Purchase Price\"]\n",
    "top_5_popular.head(5)\n"
   ]
  },
  {
   "cell_type": "code",
   "execution_count": 55,
   "metadata": {},
   "outputs": [
    {
     "data": {
      "text/html": [
       "<div>\n",
       "<style>\n",
       "    .dataframe thead tr:only-child th {\n",
       "        text-align: right;\n",
       "    }\n",
       "\n",
       "    .dataframe thead th {\n",
       "        text-align: left;\n",
       "    }\n",
       "\n",
       "    .dataframe tbody tr th {\n",
       "        vertical-align: top;\n",
       "    }\n",
       "</style>\n",
       "<table border=\"1\" class=\"dataframe\">\n",
       "  <thead>\n",
       "    <tr style=\"text-align: right;\">\n",
       "      <th></th>\n",
       "      <th>Item ID</th>\n",
       "      <th>Item Name</th>\n",
       "      <th>Item Price</th>\n",
       "      <th>Purchase count</th>\n",
       "      <th>Total Purchase Price</th>\n",
       "    </tr>\n",
       "  </thead>\n",
       "  <tbody>\n",
       "    <tr>\n",
       "      <th>34</th>\n",
       "      <td>34</td>\n",
       "      <td>Retribution Axe</td>\n",
       "      <td>4.14</td>\n",
       "      <td>9</td>\n",
       "      <td>37.26</td>\n",
       "    </tr>\n",
       "    <tr>\n",
       "      <th>115</th>\n",
       "      <td>115</td>\n",
       "      <td>Spectral Diamond Doomblade</td>\n",
       "      <td>4.25</td>\n",
       "      <td>7</td>\n",
       "      <td>29.75</td>\n",
       "    </tr>\n",
       "    <tr>\n",
       "      <th>32</th>\n",
       "      <td>32</td>\n",
       "      <td>Orenmir</td>\n",
       "      <td>4.95</td>\n",
       "      <td>6</td>\n",
       "      <td>29.70</td>\n",
       "    </tr>\n",
       "    <tr>\n",
       "      <th>103</th>\n",
       "      <td>103</td>\n",
       "      <td>Singed Scalpel</td>\n",
       "      <td>4.87</td>\n",
       "      <td>6</td>\n",
       "      <td>29.22</td>\n",
       "    </tr>\n",
       "    <tr>\n",
       "      <th>107</th>\n",
       "      <td>107</td>\n",
       "      <td>Splitter, Foe Of Subtlety</td>\n",
       "      <td>3.61</td>\n",
       "      <td>8</td>\n",
       "      <td>28.88</td>\n",
       "    </tr>\n",
       "  </tbody>\n",
       "</table>\n",
       "</div>"
      ],
      "text/plain": [
       "     Item ID                   Item Name  Item Price  Purchase count  \\\n",
       "34        34             Retribution Axe        4.14               9   \n",
       "115      115  Spectral Diamond Doomblade        4.25               7   \n",
       "32        32                     Orenmir        4.95               6   \n",
       "103      103              Singed Scalpel        4.87               6   \n",
       "107      107   Splitter, Foe Of Subtlety        3.61               8   \n",
       "\n",
       "     Total Purchase Price  \n",
       "34                  37.26  \n",
       "115                 29.75  \n",
       "32                  29.70  \n",
       "103                 29.22  \n",
       "107                 28.88  "
      ]
     },
     "execution_count": 55,
     "metadata": {},
     "output_type": "execute_result"
    }
   ],
   "source": [
    "# Top 5 Profitable items\n",
    "top_profitable = pd.DataFrame(mydata2.groupby([\"Item ID\",\"Item Name\",\"Price\"])[\"SN\"].count())\n",
    "top_profitable.reset_index(inplace=True)\n",
    "top_profitable.columns=[\"Item ID\",\"Item Name\",\"Price\",\"Purchase count\"]\n",
    "\n",
    "top_profitable1 = pd.DataFrame(mydata2.groupby(\"Item ID\")[\"Price\"].sum())\n",
    "top_profitable1.reset_index(inplace=True)\n",
    "top_profitable1.columns=[\"Item ID\",\"Total Purchase Price\"]\n",
    "\n",
    "new_table1=pd.merge(top_profitable,top_profitable1,on=\"Item ID\")\n",
    "\n",
    "top_5_profitable = new_table.sort_values([\"Total Purchase Price\"],ascending=[False])\n",
    "top_5_profitable.columns=[\"Item ID\",\"Item Name\",\"Item Price\",\"Purchase count\",\"Total Purchase Price\"]\n",
    "top_5_profitable.head(5)\n",
    "\n",
    "\n"
   ]
  },
  {
   "cell_type": "code",
   "execution_count": 56,
   "metadata": {},
   "outputs": [
    {
     "name": "stdout",
     "output_type": "stream",
     "text": [
      "45\n",
      "7\n"
     ]
    }
   ],
   "source": [
    "#Max and Min for Bins\n",
    "print(mydata2[\"Age\"].max())\n",
    "print(mydata2[\"Age\"].min())\n"
   ]
  },
  {
   "cell_type": "code",
   "execution_count": 58,
   "metadata": {
    "collapsed": true
   },
   "outputs": [],
   "source": [
    "# create Bins\n",
    "bins = [0,4,8,12,16,20,24,28,32,36,40,44,48]\n",
    "labels = [\"less than 4\",\"4 to 8\",\"8 to 12\",\"12 to 16\",\"16 to 20\",\"20 to 24\",\"24 to 28\",\"28 to 32\",\"32 to 36\",\"36 to 40\",\"40 to 44\",\"44 to 48\"]"
   ]
  },
  {
   "cell_type": "code",
   "execution_count": 59,
   "metadata": {},
   "outputs": [
    {
     "data": {
      "text/plain": [
       "0      36 to 40\n",
       "1      20 to 24\n",
       "2      32 to 36\n",
       "3      20 to 24\n",
       "4      20 to 24\n",
       "5      16 to 20\n",
       "6      16 to 20\n",
       "7      28 to 32\n",
       "8      24 to 28\n",
       "9      28 to 32\n",
       "10     20 to 24\n",
       "11     16 to 20\n",
       "12     28 to 32\n",
       "13     20 to 24\n",
       "14     36 to 40\n",
       "15     20 to 24\n",
       "16     20 to 24\n",
       "17     20 to 24\n",
       "18     24 to 28\n",
       "19     28 to 32\n",
       "20     20 to 24\n",
       "21     12 to 16\n",
       "22      8 to 12\n",
       "23     16 to 20\n",
       "24      8 to 12\n",
       "25     20 to 24\n",
       "26     28 to 32\n",
       "27     32 to 36\n",
       "28     12 to 16\n",
       "29     12 to 16\n",
       "         ...   \n",
       "750    20 to 24\n",
       "751    24 to 28\n",
       "752    12 to 16\n",
       "753    16 to 20\n",
       "754    28 to 32\n",
       "755    20 to 24\n",
       "756    20 to 24\n",
       "757    32 to 36\n",
       "758    16 to 20\n",
       "759    16 to 20\n",
       "760    28 to 32\n",
       "761    24 to 28\n",
       "762    32 to 36\n",
       "763    24 to 28\n",
       "764    24 to 28\n",
       "765    12 to 16\n",
       "766    20 to 24\n",
       "767    16 to 20\n",
       "768    20 to 24\n",
       "769    20 to 24\n",
       "770    20 to 24\n",
       "771    20 to 24\n",
       "772    12 to 16\n",
       "773    20 to 24\n",
       "774    20 to 24\n",
       "775    20 to 24\n",
       "776    12 to 16\n",
       "777    16 to 20\n",
       "778    16 to 20\n",
       "779    20 to 24\n",
       "Name: Age, Length: 780, dtype: category\n",
       "Categories (12, object): [less than 4 < 4 to 8 < 8 to 12 < 12 to 16 ... 32 to 36 < 36 to 40 < 40 to 44 < 44 to 48]"
      ]
     },
     "execution_count": 59,
     "metadata": {},
     "output_type": "execute_result"
    }
   ],
   "source": [
    "pd.cut(mydata2[\"Age\"],bins,labels=labels)"
   ]
  },
  {
   "cell_type": "code",
   "execution_count": 61,
   "metadata": {},
   "outputs": [
    {
     "data": {
      "text/html": [
       "<div>\n",
       "<style>\n",
       "    .dataframe thead tr:only-child th {\n",
       "        text-align: right;\n",
       "    }\n",
       "\n",
       "    .dataframe thead th {\n",
       "        text-align: left;\n",
       "    }\n",
       "\n",
       "    .dataframe tbody tr th {\n",
       "        vertical-align: top;\n",
       "    }\n",
       "</style>\n",
       "<table border=\"1\" class=\"dataframe\">\n",
       "  <thead>\n",
       "    <tr style=\"text-align: right;\">\n",
       "      <th></th>\n",
       "      <th>SN</th>\n",
       "      <th>Age</th>\n",
       "      <th>Gender</th>\n",
       "      <th>Item ID</th>\n",
       "      <th>Item Name</th>\n",
       "      <th>Price</th>\n",
       "      <th>Age Group</th>\n",
       "    </tr>\n",
       "  </thead>\n",
       "  <tbody>\n",
       "    <tr>\n",
       "      <th>0</th>\n",
       "      <td>Aelalis34</td>\n",
       "      <td>38</td>\n",
       "      <td>Male</td>\n",
       "      <td>165</td>\n",
       "      <td>Bone Crushing Silver Skewer</td>\n",
       "      <td>3.37</td>\n",
       "      <td>36 to 40</td>\n",
       "    </tr>\n",
       "    <tr>\n",
       "      <th>1</th>\n",
       "      <td>Eolo46</td>\n",
       "      <td>21</td>\n",
       "      <td>Male</td>\n",
       "      <td>119</td>\n",
       "      <td>Stormbringer, Dark Blade of Ending Misery</td>\n",
       "      <td>2.32</td>\n",
       "      <td>20 to 24</td>\n",
       "    </tr>\n",
       "    <tr>\n",
       "      <th>2</th>\n",
       "      <td>Assastnya25</td>\n",
       "      <td>34</td>\n",
       "      <td>Male</td>\n",
       "      <td>174</td>\n",
       "      <td>Primitive Blade</td>\n",
       "      <td>2.46</td>\n",
       "      <td>32 to 36</td>\n",
       "    </tr>\n",
       "    <tr>\n",
       "      <th>3</th>\n",
       "      <td>Pheusrical25</td>\n",
       "      <td>21</td>\n",
       "      <td>Male</td>\n",
       "      <td>92</td>\n",
       "      <td>Final Critic</td>\n",
       "      <td>1.36</td>\n",
       "      <td>20 to 24</td>\n",
       "    </tr>\n",
       "    <tr>\n",
       "      <th>4</th>\n",
       "      <td>Aela59</td>\n",
       "      <td>23</td>\n",
       "      <td>Male</td>\n",
       "      <td>63</td>\n",
       "      <td>Stormfury Mace</td>\n",
       "      <td>1.27</td>\n",
       "      <td>20 to 24</td>\n",
       "    </tr>\n",
       "  </tbody>\n",
       "</table>\n",
       "</div>"
      ],
      "text/plain": [
       "             SN  Age Gender  Item ID  \\\n",
       "0     Aelalis34   38   Male      165   \n",
       "1        Eolo46   21   Male      119   \n",
       "2   Assastnya25   34   Male      174   \n",
       "3  Pheusrical25   21   Male       92   \n",
       "4        Aela59   23   Male       63   \n",
       "\n",
       "                                   Item Name  Price Age Group  \n",
       "0                Bone Crushing Silver Skewer   3.37  36 to 40  \n",
       "1  Stormbringer, Dark Blade of Ending Misery   2.32  20 to 24  \n",
       "2                            Primitive Blade   2.46  32 to 36  \n",
       "3                               Final Critic   1.36  20 to 24  \n",
       "4                             Stormfury Mace   1.27  20 to 24  "
      ]
     },
     "execution_count": 61,
     "metadata": {},
     "output_type": "execute_result"
    }
   ],
   "source": [
    "mydata2[\"Age Group\"] = pd.cut(mydata2[\"Age\"],bins,labels=labels)\n",
    "mydata2.head()"
   ]
  },
  {
   "cell_type": "code",
   "execution_count": 85,
   "metadata": {
    "scrolled": true
   },
   "outputs": [
    {
     "data": {
      "text/html": [
       "<div>\n",
       "<style>\n",
       "    .dataframe thead tr:only-child th {\n",
       "        text-align: right;\n",
       "    }\n",
       "\n",
       "    .dataframe thead th {\n",
       "        text-align: left;\n",
       "    }\n",
       "\n",
       "    .dataframe tbody tr th {\n",
       "        vertical-align: top;\n",
       "    }\n",
       "</style>\n",
       "<table border=\"1\" class=\"dataframe\">\n",
       "  <thead>\n",
       "    <tr style=\"text-align: right;\">\n",
       "      <th></th>\n",
       "      <th>Age Group</th>\n",
       "      <th>Purchase count</th>\n",
       "      <th>Average Price</th>\n",
       "      <th>Total Price</th>\n",
       "    </tr>\n",
       "  </thead>\n",
       "  <tbody>\n",
       "    <tr>\n",
       "      <th>0</th>\n",
       "      <td>less than 4</td>\n",
       "      <td>0</td>\n",
       "      <td>NaN</td>\n",
       "      <td>NaN</td>\n",
       "    </tr>\n",
       "    <tr>\n",
       "      <th>1</th>\n",
       "      <td>4 to 8</td>\n",
       "      <td>22</td>\n",
       "      <td>2.788182</td>\n",
       "      <td>61.34</td>\n",
       "    </tr>\n",
       "    <tr>\n",
       "      <th>2</th>\n",
       "      <td>8 to 12</td>\n",
       "      <td>24</td>\n",
       "      <td>3.385417</td>\n",
       "      <td>81.25</td>\n",
       "    </tr>\n",
       "    <tr>\n",
       "      <th>3</th>\n",
       "      <td>12 to 16</td>\n",
       "      <td>87</td>\n",
       "      <td>2.745862</td>\n",
       "      <td>238.89</td>\n",
       "    </tr>\n",
       "    <tr>\n",
       "      <th>4</th>\n",
       "      <td>16 to 20</td>\n",
       "      <td>161</td>\n",
       "      <td>2.907019</td>\n",
       "      <td>468.03</td>\n",
       "    </tr>\n",
       "    <tr>\n",
       "      <th>5</th>\n",
       "      <td>20 to 24</td>\n",
       "      <td>238</td>\n",
       "      <td>2.924748</td>\n",
       "      <td>696.09</td>\n",
       "    </tr>\n",
       "    <tr>\n",
       "      <th>6</th>\n",
       "      <td>24 to 28</td>\n",
       "      <td>104</td>\n",
       "      <td>2.974712</td>\n",
       "      <td>309.37</td>\n",
       "    </tr>\n",
       "    <tr>\n",
       "      <th>7</th>\n",
       "      <td>28 to 32</td>\n",
       "      <td>66</td>\n",
       "      <td>3.061970</td>\n",
       "      <td>202.09</td>\n",
       "    </tr>\n",
       "    <tr>\n",
       "      <th>8</th>\n",
       "      <td>32 to 36</td>\n",
       "      <td>38</td>\n",
       "      <td>2.981053</td>\n",
       "      <td>113.28</td>\n",
       "    </tr>\n",
       "    <tr>\n",
       "      <th>9</th>\n",
       "      <td>36 to 40</td>\n",
       "      <td>37</td>\n",
       "      <td>2.901351</td>\n",
       "      <td>107.35</td>\n",
       "    </tr>\n",
       "    <tr>\n",
       "      <th>10</th>\n",
       "      <td>40 to 44</td>\n",
       "      <td>2</td>\n",
       "      <td>2.960000</td>\n",
       "      <td>5.92</td>\n",
       "    </tr>\n",
       "  </tbody>\n",
       "</table>\n",
       "</div>"
      ],
      "text/plain": [
       "      Age Group  Purchase count  Average Price  Total Price\n",
       "0   less than 4               0            NaN          NaN\n",
       "1        4 to 8              22       2.788182        61.34\n",
       "2       8 to 12              24       3.385417        81.25\n",
       "3      12 to 16              87       2.745862       238.89\n",
       "4      16 to 20             161       2.907019       468.03\n",
       "5      20 to 24             238       2.924748       696.09\n",
       "6      24 to 28             104       2.974712       309.37\n",
       "7      28 to 32              66       3.061970       202.09\n",
       "8      32 to 36              38       2.981053       113.28\n",
       "9      36 to 40              37       2.901351       107.35\n",
       "10     40 to 44               2       2.960000         5.92"
      ]
     },
     "execution_count": 85,
     "metadata": {},
     "output_type": "execute_result"
    }
   ],
   "source": [
    "age_groups=pd.DataFrame(mydata2.groupby(\"Age Group\")[\"Price\"].count())\n",
    "age_groups.reset_index(inplace=True)\n",
    "age_groups1=pd.DataFrame(mydata2.groupby(\"Age Group\")[\"Price\"].mean())\n",
    "age_groups1.reset_index(inplace=True)\n",
    "age_groups2=pd.DataFrame(mydata2.groupby(\"Age Group\")[\"Price\"].sum())\n",
    "age_groups2.reset_index(inplace=True)\n",
    "\n",
    "merge_age=pd.merge(age_groups,age_groups1, on=\"Age Group\")\n",
    "demographic=pd.merge(merge_age,age_groups2, on = \"Age Group\")\n",
    "demographic.columns=[\"Age Group\",\"Purchase count\",\"Average Price\",\"Total Price\"]\n",
    "demographic.head(11)"
   ]
  },
  {
   "cell_type": "code",
   "execution_count": 82,
   "metadata": {},
   "outputs": [],
   "source": [
    "# Trends\n",
    "# 1- Male are into video games more than Female\n",
    "# 2- Youth between 20-24 age group spend more on video games purchases than other groups\n",
    "# 3- less expensive games are sold more than expensive ones\n",
    "\n",
    "\n"
   ]
  },
  {
   "cell_type": "code",
   "execution_count": null,
   "metadata": {
    "collapsed": true
   },
   "outputs": [],
   "source": []
  }
 ],
 "metadata": {
  "kernelspec": {
   "display_name": "Python 3",
   "language": "python",
   "name": "python3"
  },
  "language_info": {
   "codemirror_mode": {
    "name": "ipython",
    "version": 3
   },
   "file_extension": ".py",
   "mimetype": "text/x-python",
   "name": "python",
   "nbconvert_exporter": "python",
   "pygments_lexer": "ipython3",
   "version": "3.6.2"
  }
 },
 "nbformat": 4,
 "nbformat_minor": 2
}
