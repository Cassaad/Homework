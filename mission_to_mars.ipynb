{
 "cells": [
  {
   "cell_type": "code",
   "execution_count": 36,
   "metadata": {
    "collapsed": true
   },
   "outputs": [],
   "source": [
    "# import dependecies\n",
    "\n",
    "from splinter import Browser\n",
    "from bs4 import BeautifulSoup\n",
    "import pandas as pd\n",
    "from selenium import webdriver\n",
    "import requests\n",
    "import pymongo\n",
    "import time"
   ]
  },
  {
   "cell_type": "code",
   "execution_count": 2,
   "metadata": {
    "collapsed": true
   },
   "outputs": [],
   "source": [
    "# NASA\n",
    "executable_path = {'executable_path': 'C:/Users/chris/OneDrive/Documents/GitHub/Homework/Week 13 HW/chromedriver'}\n",
    "browser=Browser(\"chrome\", **executable_path, headless=False)\n",
    "nasa_url = 'https://mars.nasa.gov/news/'\n",
    "browser.visit(nasa_url)\n"
   ]
  },
  {
   "cell_type": "code",
   "execution_count": 3,
   "metadata": {
    "collapsed": true
   },
   "outputs": [],
   "source": [
    "html = browser.html\n",
    "soup = BeautifulSoup(html, 'html.parser')"
   ]
  },
  {
   "cell_type": "code",
   "execution_count": 4,
   "metadata": {},
   "outputs": [
    {
     "data": {
      "text/plain": [
       "[<div class=\"slide slick-slide slick-cloned\" index=\"-3\" style=\"width: 278px;\">\n",
       " <div class=\"image_and_description_container\">\n",
       " <a href=\"/news/8303/mount-sharp-photobombs-mars-curiosity-rover/\">\n",
       " <div class=\"rollover_description\">\n",
       " <div class=\"rollover_description_inner\">\n",
       " A new self-portrait of NASA's Curiosity Mars rover shows the vehicle on Vera Rubin Ridge.\n",
       " </div>\n",
       " <div class=\"overlay_arrow\">\n",
       " <img alt=\"More\" src=\"/assets/overlay-arrow.png\"/>\n",
       " </div>\n",
       " </div>\n",
       " <img alt=\"Mount Sharp 'Photobombs' Mars Curiosity Rover\" class=\"img-lazy\" data-lazy=\"/system/news_items/list_view_images/8303_pia22207_320.jpg\" src=\"/assets/loading_320x240.png\"/>\n",
       " </a>\n",
       " </div>\n",
       " <div class=\"content_title\">\n",
       " <a href=\"/news/8303/mount-sharp-photobombs-mars-curiosity-rover/\">\n",
       " Mount Sharp 'Photobombs' Mars Curiosity Rover\n",
       " </a>\n",
       " </div>\n",
       " </div>,\n",
       " <div class=\"slide slick-slide slick-cloned\" index=\"-2\" style=\"width: 278px;\">\n",
       " <div class=\"image_and_description_container\">\n",
       " <a href=\"/news/8299/dust-storms-linked-to-gas-escape-from-mars-atmosphere/\">\n",
       " <div class=\"rollover_description\">\n",
       " <div class=\"rollover_description_inner\">\n",
       " If Mars has a global dust storm in 2018, observations could aid understanding of its effects.\n",
       " </div>\n",
       " <div class=\"overlay_arrow\">\n",
       " <img alt=\"More\" src=\"/assets/overlay-arrow.png\"/>\n",
       " </div>\n",
       " </div>\n",
       " <img alt=\"Dust Storms Linked to Gas Escape from Mars Atmosphere\" class=\"img-lazy\" data-lazy=\"/system/news_items/list_view_images/8299_PIA03170_320.jpg\" src=\"/assets/loading_320x240.png\"/>\n",
       " </a>\n",
       " </div>\n",
       " <div class=\"content_title\">\n",
       " <a href=\"/news/8299/dust-storms-linked-to-gas-escape-from-mars-atmosphere/\">\n",
       " Dust Storms Linked to Gas Escape from Mars Atmosphere\n",
       " </a>\n",
       " </div>\n",
       " </div>,\n",
       " <div class=\"slide slick-slide slick-cloned\" index=\"-1\" style=\"width: 278px;\">\n",
       " <div class=\"image_and_description_container\">\n",
       " <a href=\"/news/8298/steep-slopes-on-mars-reveal-structure-of-buried-ice/\">\n",
       " <div class=\"rollover_description\">\n",
       " <div class=\"rollover_description_inner\">\n",
       " Researchers using NASA's Mars Reconnaissance Orbiter have found eight sites where thick deposits of ice beneath Mars' surface are exposed.\n",
       " </div>\n",
       " <div class=\"overlay_arrow\">\n",
       " <img alt=\"More\" src=\"/assets/overlay-arrow.png\"/>\n",
       " </div>\n",
       " </div>\n",
       " <img alt=\"Steep Slopes on Mars Reveal Structure of Buried Ice\" class=\"img-lazy\" data-lazy=\"/system/news_items/list_view_images/8298_PIA22077_320.jpg\" src=\"/assets/loading_320x240.png\"/>\n",
       " </a>\n",
       " </div>\n",
       " <div class=\"content_title\">\n",
       " <a href=\"/news/8298/steep-slopes-on-mars-reveal-structure-of-buried-ice/\">\n",
       " Steep Slopes on Mars Reveal Structure of Buried Ice\n",
       " </a>\n",
       " </div>\n",
       " </div>,\n",
       " <div class=\"slide slick-slide slick-active\" index=\"0\" style=\"width: 278px;\">\n",
       " <div class=\"image_and_description_container\">\n",
       " <a href=\"/news/8307/mars-reconnaissance-orbiter-preparing-for-years-ahead/\">\n",
       " <div class=\"rollover_description\">\n",
       " <div class=\"rollover_description_inner\">\n",
       " NASA's Mars Reconnaissance Orbiter (MRO) has begun extra stargazing to help the space agency accomplish advances in Mars exploration over the next decade.\n",
       " </div>\n",
       " <div class=\"overlay_arrow\">\n",
       " <img alt=\"More\" src=\"/assets/overlay-arrow.png\"/>\n",
       " </div>\n",
       " </div>\n",
       " <img alt=\"Mars Reconnaissance Orbiter Preparing for Years Ahead\" class=\"img-lazy\" src=\"/system/news_items/list_view_images/8307_pia05490_320.jpg?1518489762621\" style=\"opacity: 1;\"/>\n",
       " </a>\n",
       " </div>\n",
       " <div class=\"content_title\">\n",
       " <a href=\"/news/8307/mars-reconnaissance-orbiter-preparing-for-years-ahead/\">\n",
       " Mars Reconnaissance Orbiter Preparing for Years Ahead\n",
       " </a>\n",
       " </div>\n",
       " </div>,\n",
       " <div class=\"slide slick-slide slick-active\" index=\"1\" style=\"width: 278px;\">\n",
       " <div class=\"image_and_description_container\">\n",
       " <a href=\"/news/8305/tiny-crystal-shapes-get-close-look-from-mars-rover/\">\n",
       " <div class=\"rollover_description\">\n",
       " <div class=\"rollover_description_inner\">\n",
       " Star-shaped, tiny, dark bumps in the fine-layered bright bedrock of a Martian ridge are drawing close inspection by NASA's Curiosity Mars rover.\n",
       " </div>\n",
       " <div class=\"overlay_arrow\">\n",
       " <img alt=\"More\" src=\"/assets/overlay-arrow.png\"/>\n",
       " </div>\n",
       " </div>\n",
       " <img alt=\"Tiny Crystal Shapes Get Close Look From Mars Rover\" class=\"img-lazy\" src=\"/system/news_items/list_view_images/8305_pia22213_320.jpg?1518489762622\" style=\"opacity: 1;\"/>\n",
       " </a>\n",
       " </div>\n",
       " <div class=\"content_title\">\n",
       " <a href=\"/news/8305/tiny-crystal-shapes-get-close-look-from-mars-rover/\">\n",
       " Tiny Crystal Shapes Get Close Look From Mars Rover\n",
       " </a>\n",
       " </div>\n",
       " </div>,\n",
       " <div class=\"slide slick-slide slick-active\" index=\"2\" style=\"width: 278px;\">\n",
       " <div class=\"image_and_description_container\">\n",
       " <a href=\"/news/8304/nasa-tests-atomic-clock-for-deep-space-navigation/\">\n",
       " <div class=\"rollover_description\">\n",
       " <div class=\"rollover_description_inner\">\n",
       " Project could help spacecraft keep time more efficiently and allow ground stations to better track multiple satellites at once near crowded areas like Mars.\n",
       " </div>\n",
       " <div class=\"overlay_arrow\">\n",
       " <img alt=\"More\" src=\"/assets/overlay-arrow.png\"/>\n",
       " </div>\n",
       " </div>\n",
       " <img alt=\"NASA Tests Atomic Clock for Deep Space Navigation\" class=\"img-lazy\" src=\"/system/news_items/list_view_images/8304_dsac20180206_320.jpg?1518489762622\" style=\"opacity: 1;\"/>\n",
       " </a>\n",
       " </div>\n",
       " <div class=\"content_title\">\n",
       " <a href=\"/news/8304/nasa-tests-atomic-clock-for-deep-space-navigation/\">\n",
       " NASA Tests Atomic Clock for Deep Space Navigation\n",
       " </a>\n",
       " </div>\n",
       " </div>,\n",
       " <div class=\"slide slick-slide\" index=\"3\" style=\"width: 278px;\">\n",
       " <div class=\"image_and_description_container\">\n",
       " <a href=\"/news/8303/mount-sharp-photobombs-mars-curiosity-rover/\">\n",
       " <div class=\"rollover_description\">\n",
       " <div class=\"rollover_description_inner\">\n",
       " A new self-portrait of NASA's Curiosity Mars rover shows the vehicle on Vera Rubin Ridge.\n",
       " </div>\n",
       " <div class=\"overlay_arrow\">\n",
       " <img alt=\"More\" src=\"/assets/overlay-arrow.png\"/>\n",
       " </div>\n",
       " </div>\n",
       " <img alt=\"Mount Sharp 'Photobombs' Mars Curiosity Rover\" class=\"img-lazy\" data-lazy=\"/system/news_items/list_view_images/8303_pia22207_320.jpg\" src=\"/assets/loading_320x240.png\"/>\n",
       " </a>\n",
       " </div>\n",
       " <div class=\"content_title\">\n",
       " <a href=\"/news/8303/mount-sharp-photobombs-mars-curiosity-rover/\">\n",
       " Mount Sharp 'Photobombs' Mars Curiosity Rover\n",
       " </a>\n",
       " </div>\n",
       " </div>,\n",
       " <div class=\"slide slick-slide\" index=\"4\" style=\"width: 278px;\">\n",
       " <div class=\"image_and_description_container\">\n",
       " <a href=\"/news/8299/dust-storms-linked-to-gas-escape-from-mars-atmosphere/\">\n",
       " <div class=\"rollover_description\">\n",
       " <div class=\"rollover_description_inner\">\n",
       " If Mars has a global dust storm in 2018, observations could aid understanding of its effects.\n",
       " </div>\n",
       " <div class=\"overlay_arrow\">\n",
       " <img alt=\"More\" src=\"/assets/overlay-arrow.png\"/>\n",
       " </div>\n",
       " </div>\n",
       " <img alt=\"Dust Storms Linked to Gas Escape from Mars Atmosphere\" class=\"img-lazy\" data-lazy=\"/system/news_items/list_view_images/8299_PIA03170_320.jpg\" src=\"/assets/loading_320x240.png\"/>\n",
       " </a>\n",
       " </div>\n",
       " <div class=\"content_title\">\n",
       " <a href=\"/news/8299/dust-storms-linked-to-gas-escape-from-mars-atmosphere/\">\n",
       " Dust Storms Linked to Gas Escape from Mars Atmosphere\n",
       " </a>\n",
       " </div>\n",
       " </div>,\n",
       " <div class=\"slide slick-slide\" index=\"5\" style=\"width: 278px;\">\n",
       " <div class=\"image_and_description_container\">\n",
       " <a href=\"/news/8298/steep-slopes-on-mars-reveal-structure-of-buried-ice/\">\n",
       " <div class=\"rollover_description\">\n",
       " <div class=\"rollover_description_inner\">\n",
       " Researchers using NASA's Mars Reconnaissance Orbiter have found eight sites where thick deposits of ice beneath Mars' surface are exposed.\n",
       " </div>\n",
       " <div class=\"overlay_arrow\">\n",
       " <img alt=\"More\" src=\"/assets/overlay-arrow.png\"/>\n",
       " </div>\n",
       " </div>\n",
       " <img alt=\"Steep Slopes on Mars Reveal Structure of Buried Ice\" class=\"img-lazy\" data-lazy=\"/system/news_items/list_view_images/8298_PIA22077_320.jpg\" src=\"/assets/loading_320x240.png\"/>\n",
       " </a>\n",
       " </div>\n",
       " <div class=\"content_title\">\n",
       " <a href=\"/news/8298/steep-slopes-on-mars-reveal-structure-of-buried-ice/\">\n",
       " Steep Slopes on Mars Reveal Structure of Buried Ice\n",
       " </a>\n",
       " </div>\n",
       " </div>,\n",
       " <div class=\"slide slick-slide slick-cloned\" index=\"6\" style=\"width: 278px;\">\n",
       " <div class=\"image_and_description_container\">\n",
       " <a href=\"/news/8307/mars-reconnaissance-orbiter-preparing-for-years-ahead/\">\n",
       " <div class=\"rollover_description\">\n",
       " <div class=\"rollover_description_inner\">\n",
       " NASA's Mars Reconnaissance Orbiter (MRO) has begun extra stargazing to help the space agency accomplish advances in Mars exploration over the next decade.\n",
       " </div>\n",
       " <div class=\"overlay_arrow\">\n",
       " <img alt=\"More\" src=\"/assets/overlay-arrow.png\"/>\n",
       " </div>\n",
       " </div>\n",
       " <img alt=\"Mars Reconnaissance Orbiter Preparing for Years Ahead\" class=\"img-lazy\" src=\"/system/news_items/list_view_images/8307_pia05490_320.jpg?1518489762622\" style=\"opacity: 1;\"/>\n",
       " </a>\n",
       " </div>\n",
       " <div class=\"content_title\">\n",
       " <a href=\"/news/8307/mars-reconnaissance-orbiter-preparing-for-years-ahead/\">\n",
       " Mars Reconnaissance Orbiter Preparing for Years Ahead\n",
       " </a>\n",
       " </div>\n",
       " </div>,\n",
       " <div class=\"slide slick-slide slick-cloned\" index=\"7\" style=\"width: 278px;\">\n",
       " <div class=\"image_and_description_container\">\n",
       " <a href=\"/news/8305/tiny-crystal-shapes-get-close-look-from-mars-rover/\">\n",
       " <div class=\"rollover_description\">\n",
       " <div class=\"rollover_description_inner\">\n",
       " Star-shaped, tiny, dark bumps in the fine-layered bright bedrock of a Martian ridge are drawing close inspection by NASA's Curiosity Mars rover.\n",
       " </div>\n",
       " <div class=\"overlay_arrow\">\n",
       " <img alt=\"More\" src=\"/assets/overlay-arrow.png\"/>\n",
       " </div>\n",
       " </div>\n",
       " <img alt=\"Tiny Crystal Shapes Get Close Look From Mars Rover\" class=\"img-lazy\" src=\"/system/news_items/list_view_images/8305_pia22213_320.jpg?1518489762623\" style=\"opacity: 1;\"/>\n",
       " </a>\n",
       " </div>\n",
       " <div class=\"content_title\">\n",
       " <a href=\"/news/8305/tiny-crystal-shapes-get-close-look-from-mars-rover/\">\n",
       " Tiny Crystal Shapes Get Close Look From Mars Rover\n",
       " </a>\n",
       " </div>\n",
       " </div>,\n",
       " <div class=\"slide slick-slide slick-cloned\" index=\"8\" style=\"width: 278px;\">\n",
       " <div class=\"image_and_description_container\">\n",
       " <a href=\"/news/8304/nasa-tests-atomic-clock-for-deep-space-navigation/\">\n",
       " <div class=\"rollover_description\">\n",
       " <div class=\"rollover_description_inner\">\n",
       " Project could help spacecraft keep time more efficiently and allow ground stations to better track multiple satellites at once near crowded areas like Mars.\n",
       " </div>\n",
       " <div class=\"overlay_arrow\">\n",
       " <img alt=\"More\" src=\"/assets/overlay-arrow.png\"/>\n",
       " </div>\n",
       " </div>\n",
       " <img alt=\"NASA Tests Atomic Clock for Deep Space Navigation\" class=\"img-lazy\" src=\"/system/news_items/list_view_images/8304_dsac20180206_320.jpg?1518489762623\" style=\"opacity: 1;\"/>\n",
       " </a>\n",
       " </div>\n",
       " <div class=\"content_title\">\n",
       " <a href=\"/news/8304/nasa-tests-atomic-clock-for-deep-space-navigation/\">\n",
       " NASA Tests Atomic Clock for Deep Space Navigation\n",
       " </a>\n",
       " </div>\n",
       " </div>]"
      ]
     },
     "execution_count": 4,
     "metadata": {},
     "output_type": "execute_result"
    }
   ],
   "source": [
    "results=soup.find_all(\"div\", class_=\"slide\")\n",
    "results"
   ]
  },
  {
   "cell_type": "code",
   "execution_count": 5,
   "metadata": {},
   "outputs": [
    {
     "name": "stdout",
     "output_type": "stream",
     "text": [
      "\n",
      "\n",
      "Mount Sharp 'Photobombs' Mars Curiosity Rover\n",
      "\n",
      "\n",
      "\n",
      "A new self-portrait of NASA's Curiosity Mars rover shows the vehicle on Vera Rubin Ridge.\n",
      "\n",
      "\n",
      "\n",
      "Dust Storms Linked to Gas Escape from Mars Atmosphere\n",
      "\n",
      "\n",
      "\n",
      "If Mars has a global dust storm in 2018, observations could aid understanding of its effects.\n",
      "\n",
      "\n",
      "\n",
      "Steep Slopes on Mars Reveal Structure of Buried Ice\n",
      "\n",
      "\n",
      "\n",
      "Researchers using NASA's Mars Reconnaissance Orbiter have found eight sites where thick deposits of ice beneath Mars' surface are exposed.\n",
      "\n",
      "\n",
      "\n",
      "Mars Reconnaissance Orbiter Preparing for Years Ahead\n",
      "\n",
      "\n",
      "\n",
      "NASA's Mars Reconnaissance Orbiter (MRO) has begun extra stargazing to help the space agency accomplish advances in Mars exploration over the next decade.\n",
      "\n",
      "\n",
      "\n",
      "Tiny Crystal Shapes Get Close Look From Mars Rover\n",
      "\n",
      "\n",
      "\n",
      "Star-shaped, tiny, dark bumps in the fine-layered bright bedrock of a Martian ridge are drawing close inspection by NASA's Curiosity Mars rover.\n",
      "\n",
      "\n",
      "\n",
      "NASA Tests Atomic Clock for Deep Space Navigation\n",
      "\n",
      "\n",
      "\n",
      "Project could help spacecraft keep time more efficiently and allow ground stations to better track multiple satellites at once near crowded areas like Mars.\n",
      "\n",
      "\n",
      "\n",
      "Mount Sharp 'Photobombs' Mars Curiosity Rover\n",
      "\n",
      "\n",
      "\n",
      "A new self-portrait of NASA's Curiosity Mars rover shows the vehicle on Vera Rubin Ridge.\n",
      "\n",
      "\n",
      "\n",
      "Dust Storms Linked to Gas Escape from Mars Atmosphere\n",
      "\n",
      "\n",
      "\n",
      "If Mars has a global dust storm in 2018, observations could aid understanding of its effects.\n",
      "\n",
      "\n",
      "\n",
      "Steep Slopes on Mars Reveal Structure of Buried Ice\n",
      "\n",
      "\n",
      "\n",
      "Researchers using NASA's Mars Reconnaissance Orbiter have found eight sites where thick deposits of ice beneath Mars' surface are exposed.\n",
      "\n",
      "\n",
      "\n",
      "Mars Reconnaissance Orbiter Preparing for Years Ahead\n",
      "\n",
      "\n",
      "\n",
      "NASA's Mars Reconnaissance Orbiter (MRO) has begun extra stargazing to help the space agency accomplish advances in Mars exploration over the next decade.\n",
      "\n",
      "\n",
      "\n",
      "Tiny Crystal Shapes Get Close Look From Mars Rover\n",
      "\n",
      "\n",
      "\n",
      "Star-shaped, tiny, dark bumps in the fine-layered bright bedrock of a Martian ridge are drawing close inspection by NASA's Curiosity Mars rover.\n",
      "\n",
      "\n",
      "\n",
      "NASA Tests Atomic Clock for Deep Space Navigation\n",
      "\n",
      "\n",
      "\n",
      "Project could help spacecraft keep time more efficiently and allow ground stations to better track multiple satellites at once near crowded areas like Mars.\n",
      "\n"
     ]
    }
   ],
   "source": [
    "for result in results:\n",
    "    titles= result.find(\"div\", class_=\"content_title\").text\n",
    "    paragraphs= result.find(\"div\", class_=\"rollover_description_inner\").text\n",
    "    \n",
    "    print(titles)\n",
    "    print(paragraphs)\n",
    "    \n",
    "    post={\n",
    "        \"Title\":titles,\n",
    "        \"Paragraph\":paragraphs\n",
    "    }\n",
    "    \n",
    "    "
   ]
  },
  {
   "cell_type": "code",
   "execution_count": 6,
   "metadata": {
    "collapsed": true
   },
   "outputs": [],
   "source": [
    "# JPL scrapping feature image\n",
    "jpl_url = 'https://www.jpl.nasa.gov/spaceimages/?search=&category=Mars'\n",
    "browser.visit(jpl_url)"
   ]
  },
  {
   "cell_type": "code",
   "execution_count": 7,
   "metadata": {
    "collapsed": true
   },
   "outputs": [],
   "source": [
    "html = browser.html\n",
    "soup = BeautifulSoup(html, 'html.parser')"
   ]
  },
  {
   "cell_type": "code",
   "execution_count": 8,
   "metadata": {},
   "outputs": [
    {
     "data": {
      "text/plain": [
       "[<article alt=\"First Stars or Stray Stars? A Cosmic Infrared Mystery\" class=\"carousel_item\" style=\"background-image: url('/spaceimages/images/wallpaper/PIA18851-1920x1200.jpg');\">\n",
       " <div class=\"default floating_text_area ms-layer\">\n",
       " <h2 class=\"category_title\">\n",
       " </h2>\n",
       " <h2 class=\"brand_title\">\n",
       " \t\t\t\t  FEATURED IMAGE\n",
       " \t\t\t\t</h2>\n",
       " <h1 class=\"media_feature_title\">\n",
       " \t\t\t\t  First Stars or Stray Stars? A Cosmic Infrared Mystery\t\t\t\t</h1>\n",
       " <div class=\"description\">\n",
       " </div>\n",
       " <footer>\n",
       " <a class=\"button fancybox\" data-description=\"Our sky is filled with a diffuse background glow, known as the cosmic infrared background. Much of the light is from galaxies we know about, but previous Spitzer measurements have shown an extra component of unknown origin.\" data-fancybox-group=\"images\" data-fancybox-href=\"/spaceimages/images/mediumsize/PIA18851_ip.jpg\" data-link=\"/spaceimages/details.php?id=PIA18851\" data-title=\"First Stars or Stray Stars? A Cosmic Infrared Mystery\" id=\"full_image\">\n",
       " \t\t\t\t\tFULL IMAGE\n",
       " \t\t\t\t  </a>\n",
       " </footer>\n",
       " </div>\n",
       " <div class=\"gradient_container_top\"></div>\n",
       " <div class=\"gradient_container_bottom\"></div>\n",
       " </article>]"
      ]
     },
     "execution_count": 8,
     "metadata": {},
     "output_type": "execute_result"
    }
   ],
   "source": [
    "images=soup.find_all(\"article\", class_=\"carousel_item\")\n",
    "images"
   ]
  },
  {
   "cell_type": "code",
   "execution_count": 9,
   "metadata": {},
   "outputs": [
    {
     "name": "stdout",
     "output_type": "stream",
     "text": [
      "https://www.jpl.nasa.gov/spaceimages/images/mediumsize/PIA18851_ip.jpg\n"
     ]
    }
   ],
   "source": [
    "for image in images:\n",
    "    featured_image_url= image.a['data-fancybox-href']\n",
    "    image_url= 'https://www.jpl.nasa.gov'+featured_image_url\n",
    "    print(image_url)\n",
    "  \n",
    "   "
   ]
  },
  {
   "cell_type": "code",
   "execution_count": 10,
   "metadata": {
    "collapsed": true
   },
   "outputs": [],
   "source": [
    "# Scrapping Weather - Mars Twitter\n",
    "twitter_url=\"https://twitter.com/marswxreport?lang=en\"\n",
    "browser.visit(twitter_url)\n",
    "html = browser.html\n",
    "soup = BeautifulSoup(html, 'html.parser')"
   ]
  },
  {
   "cell_type": "code",
   "execution_count": 11,
   "metadata": {},
   "outputs": [
    {
     "name": "stdout",
     "output_type": "stream",
     "text": [
      "Sol 1958 (Feb 07, 2018), Sunny, high -14C/6F, low -77C/-106F, pressure at 7.41 hPa, daylight 05:41-17:27\n"
     ]
    }
   ],
   "source": [
    "mars_weather= soup.find(\"p\", class_=\"TweetTextSize TweetTextSize--normal js-tweet-text tweet-text\")\n",
    "print(mars_weather.text.strip())"
   ]
  },
  {
   "cell_type": "code",
   "execution_count": 12,
   "metadata": {
    "collapsed": true
   },
   "outputs": [],
   "source": [
    "# Mars facts\n",
    "#mars_facts=\"https://space-facts.com/mars/\"\n",
    "#browser.visit(twitter_url)\n",
    "#html = browser.html\n",
    "#soup = BeautifulSoup(html, 'html.parser')"
   ]
  },
  {
   "cell_type": "code",
   "execution_count": 13,
   "metadata": {},
   "outputs": [
    {
     "data": {
      "text/plain": [
       "[                      0                              1\n",
       " 0  Equatorial Diameter:                       6,792 km\n",
       " 1       Polar Diameter:                       6,752 km\n",
       " 2                 Mass:  6.42 x 10^23 kg (10.7% Earth)\n",
       " 3                Moons:            2 (Phobos & Deimos)\n",
       " 4       Orbit Distance:       227,943,824 km (1.52 AU)\n",
       " 5         Orbit Period:           687 days (1.9 years)\n",
       " 6  Surface Temperature:                  -153 to 20 °C\n",
       " 7         First Record:              2nd millennium BC\n",
       " 8          Recorded By:           Egyptian astronomers]"
      ]
     },
     "execution_count": 13,
     "metadata": {},
     "output_type": "execute_result"
    }
   ],
   "source": [
    "facts=pd.read_html(\"https://space-facts.com/mars/\",flavor='bs4')\n",
    "facts\n"
   ]
  },
  {
   "cell_type": "code",
   "execution_count": 14,
   "metadata": {},
   "outputs": [
    {
     "data": {
      "text/html": [
       "<div>\n",
       "<style>\n",
       "    .dataframe thead tr:only-child th {\n",
       "        text-align: right;\n",
       "    }\n",
       "\n",
       "    .dataframe thead th {\n",
       "        text-align: left;\n",
       "    }\n",
       "\n",
       "    .dataframe tbody tr th {\n",
       "        vertical-align: top;\n",
       "    }\n",
       "</style>\n",
       "<table border=\"1\" class=\"dataframe\">\n",
       "  <thead>\n",
       "    <tr style=\"text-align: right;\">\n",
       "      <th></th>\n",
       "      <th>0</th>\n",
       "      <th>1</th>\n",
       "    </tr>\n",
       "  </thead>\n",
       "  <tbody>\n",
       "    <tr>\n",
       "      <th>0</th>\n",
       "      <td>Equatorial Diameter:</td>\n",
       "      <td>6,792 km</td>\n",
       "    </tr>\n",
       "    <tr>\n",
       "      <th>1</th>\n",
       "      <td>Polar Diameter:</td>\n",
       "      <td>6,752 km</td>\n",
       "    </tr>\n",
       "    <tr>\n",
       "      <th>2</th>\n",
       "      <td>Mass:</td>\n",
       "      <td>6.42 x 10^23 kg (10.7% Earth)</td>\n",
       "    </tr>\n",
       "    <tr>\n",
       "      <th>3</th>\n",
       "      <td>Moons:</td>\n",
       "      <td>2 (Phobos &amp; Deimos)</td>\n",
       "    </tr>\n",
       "    <tr>\n",
       "      <th>4</th>\n",
       "      <td>Orbit Distance:</td>\n",
       "      <td>227,943,824 km (1.52 AU)</td>\n",
       "    </tr>\n",
       "    <tr>\n",
       "      <th>5</th>\n",
       "      <td>Orbit Period:</td>\n",
       "      <td>687 days (1.9 years)</td>\n",
       "    </tr>\n",
       "    <tr>\n",
       "      <th>6</th>\n",
       "      <td>Surface Temperature:</td>\n",
       "      <td>-153 to 20 °C</td>\n",
       "    </tr>\n",
       "    <tr>\n",
       "      <th>7</th>\n",
       "      <td>First Record:</td>\n",
       "      <td>2nd millennium BC</td>\n",
       "    </tr>\n",
       "    <tr>\n",
       "      <th>8</th>\n",
       "      <td>Recorded By:</td>\n",
       "      <td>Egyptian astronomers</td>\n",
       "    </tr>\n",
       "  </tbody>\n",
       "</table>\n",
       "</div>"
      ],
      "text/plain": [
       "                      0                              1\n",
       "0  Equatorial Diameter:                       6,792 km\n",
       "1       Polar Diameter:                       6,752 km\n",
       "2                 Mass:  6.42 x 10^23 kg (10.7% Earth)\n",
       "3                Moons:            2 (Phobos & Deimos)\n",
       "4       Orbit Distance:       227,943,824 km (1.52 AU)\n",
       "5         Orbit Period:           687 days (1.9 years)\n",
       "6  Surface Temperature:                  -153 to 20 °C\n",
       "7         First Record:              2nd millennium BC\n",
       "8          Recorded By:           Egyptian astronomers"
      ]
     },
     "execution_count": 14,
     "metadata": {},
     "output_type": "execute_result"
    }
   ],
   "source": [
    "facts[0]"
   ]
  },
  {
   "cell_type": "code",
   "execution_count": 15,
   "metadata": {},
   "outputs": [
    {
     "name": "stdout",
     "output_type": "stream",
     "text": [
      "Requirement already satisfied: pprintpp in c:\\users\\chris\\anaconda3\\lib\\site-packages\n",
      "Collecting pyre2\n"
     ]
    },
    {
     "name": "stderr",
     "output_type": "stream",
     "text": [
      "  Could not find a version that satisfies the requirement pyre2 (from versions: )\n",
      "No matching distribution found for pyre2\n"
     ]
    },
    {
     "name": "stdout",
     "output_type": "stream",
     "text": [
      "Requirement already satisfied: pyperclip in c:\\users\\chris\\anaconda3\\lib\\site-packages\n"
     ]
    }
   ],
   "source": [
    "! pip install pprintpp\n",
    "! pip install pyre2\n",
    "! pip install pyperclip"
   ]
  },
  {
   "cell_type": "code",
   "execution_count": 16,
   "metadata": {
    "collapsed": true
   },
   "outputs": [],
   "source": [
    "import pprint\n",
    "import re\n",
    "import pyperclip"
   ]
  },
  {
   "cell_type": "code",
   "execution_count": 32,
   "metadata": {},
   "outputs": [
    {
     "name": "stdout",
     "output_type": "stream",
     "text": [
      "Cerberus Hemisphere Enhanced\n",
      "Schiaparelli Hemisphere Enhanced\n",
      "Syrtis Major Hemisphere Enhanced\n",
      "Valles Marineris Hemisphere Enhanced\n"
     ]
    }
   ],
   "source": [
    "urls = ['https://astrogeology.usgs.gov/search/map/Mars/Viking/cerberus_enhanced',\n",
    "        'https://astrogeology.usgs.gov/search/map/Mars/Viking/schiaparelli_enhanced',\n",
    "        'https://astrogeology.usgs.gov/search/map/Mars/Viking/syrtis_major_enhanced',\n",
    "        'https://astrogeology.usgs.gov/search/map/Mars/Viking/valles_marineris_enhanced']\n",
    "\n",
    "\n",
    "#scrape elements\n",
    "for url in urls:\n",
    "    response = requests.get(url)\n",
    "    soup = BeautifulSoup(response.content, \"html.parser\")\n",
    "\n",
    "    #print titles only\n",
    "    hamisphere = soup.find(\"h2\", class_= \"title\")\n",
    "    print(hamisphere.text.strip())\n",
    "   "
   ]
  },
  {
   "cell_type": "code",
   "execution_count": null,
   "metadata": {},
   "outputs": [],
   "source": []
  },
  {
   "cell_type": "code",
   "execution_count": null,
   "metadata": {
    "collapsed": true
   },
   "outputs": [],
   "source": []
  }
 ],
 "metadata": {
  "kernelspec": {
   "display_name": "Python 3",
   "language": "python",
   "name": "python3"
  },
  "language_info": {
   "codemirror_mode": {
    "name": "ipython",
    "version": 3
   },
   "file_extension": ".py",
   "mimetype": "text/x-python",
   "name": "python",
   "nbconvert_exporter": "python",
   "pygments_lexer": "ipython3",
   "version": "3.6.2"
  }
 },
 "nbformat": 4,
 "nbformat_minor": 2
}
