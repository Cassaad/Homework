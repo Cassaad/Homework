{
 "cells": [
  {
   "cell_type": "code",
   "execution_count": 2,
   "metadata": {
    "collapsed": true
   },
   "outputs": [],
   "source": [
    "# import dependecies\n",
    "\n",
    "from splinter import Browser\n",
    "from bs4 import BeautifulSoup\n",
    "import pandas as pd\n",
    "from selenium import webdriver\n",
    "import requests\n",
    "import pymongo"
   ]
  },
  {
   "cell_type": "code",
   "execution_count": 3,
   "metadata": {
    "collapsed": true
   },
   "outputs": [],
   "source": [
    "# NASA\n",
    "executable_path = {'executable_path': 'C:/Users/chris/OneDrive/Documents/GitHub/Homework/Week 13 HW/chromedriver'}\n",
    "browser=Browser(\"chrome\", **executable_path, headless=False)\n",
    "nasa_url = 'https://mars.nasa.gov/news/'\n",
    "browser.visit(nasa_url)\n"
   ]
  },
  {
   "cell_type": "code",
   "execution_count": 4,
   "metadata": {
    "collapsed": true
   },
   "outputs": [],
   "source": [
    "html = browser.html\n",
    "soup = BeautifulSoup(html, 'html.parser')"
   ]
  },
  {
   "cell_type": "code",
   "execution_count": 5,
   "metadata": {},
   "outputs": [
    {
     "data": {
      "text/plain": [
       "[<div class=\"slide slick-slide slick-cloned\" index=\"-3\" style=\"width: 278px;\">\n",
       " <div class=\"image_and_description_container\">\n",
       " <a href=\"/news/8298/steep-slopes-on-mars-reveal-structure-of-buried-ice/\">\n",
       " <div class=\"rollover_description\">\n",
       " <div class=\"rollover_description_inner\">\n",
       " Researchers using NASA's Mars Reconnaissance Orbiter have found eight sites where thick deposits of ice beneath Mars' surface are exposed.\n",
       " </div>\n",
       " <div class=\"overlay_arrow\">\n",
       " <img alt=\"More\" src=\"/assets/overlay-arrow.png\"/>\n",
       " </div>\n",
       " </div>\n",
       " <img alt=\"Steep Slopes on Mars Reveal Structure of Buried Ice\" class=\"img-lazy\" data-lazy=\"/system/news_items/list_view_images/8298_PIA22077_320.jpg\" src=\"/assets/loading_320x240.png\"/>\n",
       " </a>\n",
       " </div>\n",
       " <div class=\"content_title\">\n",
       " <a href=\"/news/8298/steep-slopes-on-mars-reveal-structure-of-buried-ice/\">\n",
       " Steep Slopes on Mars Reveal Structure of Buried Ice\n",
       " </a>\n",
       " </div>\n",
       " </div>,\n",
       " <div class=\"slide slick-slide slick-cloned\" index=\"-2\" style=\"width: 278px;\">\n",
       " <div class=\"image_and_description_container\">\n",
       " <a href=\"/news/8291/nasa-mars-rover-teams-tilted-winter-strategy-works/\">\n",
       " <div class=\"rollover_description\">\n",
       " <div class=\"rollover_description_inner\">\n",
       " NASA's senior Mars rover, Opportunity, has just passed the shortest-daylight weeks of the long Martian year with its solar panels in encouragingly clean condition for entering a potential dust-storm season in 2018.\n",
       " \n",
       " \n",
       " </div>\n",
       " <div class=\"overlay_arrow\">\n",
       " <img alt=\"More\" src=\"/assets/overlay-arrow.png\"/>\n",
       " </div>\n",
       " </div>\n",
       " <img alt=\"NASA Mars Rover Team's Tilted Winter Strategy Works\" class=\"img-lazy\" data-lazy=\"/system/news_items/list_view_images/8291_PIA22073_Sols4840B-4871B_East_Mosaic_320x240.jpg\" src=\"/assets/loading_320x240.png\"/>\n",
       " </a>\n",
       " </div>\n",
       " <div class=\"content_title\">\n",
       " <a href=\"/news/8291/nasa-mars-rover-teams-tilted-winter-strategy-works/\">\n",
       " NASA Mars Rover Team's Tilted Winter Strategy Works\n",
       " </a>\n",
       " </div>\n",
       " </div>,\n",
       " <div class=\"slide slick-slide slick-cloned\" index=\"-1\" style=\"width: 278px;\">\n",
       " <div class=\"image_and_description_container\">\n",
       " <a href=\"/news/8290/nasa-builds-its-next-mars-rover-mission/\">\n",
       " <div class=\"rollover_description\">\n",
       " <div class=\"rollover_description_inner\">\n",
       " In just a few years, NASA's next Mars rover mission will be flying to the Red Planet.\n",
       " </div>\n",
       " <div class=\"overlay_arrow\">\n",
       " <img alt=\"More\" src=\"/assets/overlay-arrow.png\"/>\n",
       " </div>\n",
       " </div>\n",
       " <img alt=\"NASA Builds Its Next Mars Rover Mission\" class=\"img-lazy\" data-lazy=\"/system/news_items/list_view_images/8290_21377_PIA22105-min320.jpeg\" src=\"/assets/loading_320x240.png\"/>\n",
       " </a>\n",
       " </div>\n",
       " <div class=\"content_title\">\n",
       " <a href=\"/news/8290/nasa-builds-its-next-mars-rover-mission/\">\n",
       " NASA Builds Its Next Mars Rover Mission\n",
       " </a>\n",
       " </div>\n",
       " </div>,\n",
       " <div class=\"slide slick-slide slick-active\" index=\"0\" style=\"width: 278px;\">\n",
       " <div class=\"image_and_description_container\">\n",
       " <a href=\"/news/8304/nasa-tests-atomic-clock-for-deep-space-navigation/\">\n",
       " <div class=\"rollover_description\">\n",
       " <div class=\"rollover_description_inner\">\n",
       " Project could help spacecraft keep time more efficiently and allow ground stations to better track multiple satellites at once near crowded areas like Mars.\n",
       " </div>\n",
       " <div class=\"overlay_arrow\">\n",
       " <img alt=\"More\" src=\"/assets/overlay-arrow.png\"/>\n",
       " </div>\n",
       " </div>\n",
       " <img alt=\"NASA Tests Atomic Clock for Deep Space Navigation\" class=\"img-lazy\" src=\"/system/news_items/list_view_images/8304_dsac20180206_320.jpg?1518058701750\" style=\"opacity: 1;\"/>\n",
       " </a>\n",
       " </div>\n",
       " <div class=\"content_title\">\n",
       " <a href=\"/news/8304/nasa-tests-atomic-clock-for-deep-space-navigation/\">\n",
       " NASA Tests Atomic Clock for Deep Space Navigation\n",
       " </a>\n",
       " </div>\n",
       " </div>,\n",
       " <div class=\"slide slick-slide slick-active\" index=\"1\" style=\"width: 278px;\">\n",
       " <div class=\"image_and_description_container\">\n",
       " <a href=\"/news/8303/mount-sharp-photobombs-mars-curiosity-rover/\">\n",
       " <div class=\"rollover_description\">\n",
       " <div class=\"rollover_description_inner\">\n",
       " A new self-portrait of NASA's Curiosity Mars rover shows the vehicle on Vera Rubin Ridge.\n",
       " </div>\n",
       " <div class=\"overlay_arrow\">\n",
       " <img alt=\"More\" src=\"/assets/overlay-arrow.png\"/>\n",
       " </div>\n",
       " </div>\n",
       " <img alt=\"Mount Sharp 'Photobombs' Mars Curiosity Rover\" class=\"img-lazy\" src=\"/system/news_items/list_view_images/8303_pia22207_320.jpg?1518058701750\" style=\"opacity: 1;\"/>\n",
       " </a>\n",
       " </div>\n",
       " <div class=\"content_title\">\n",
       " <a href=\"/news/8303/mount-sharp-photobombs-mars-curiosity-rover/\">\n",
       " Mount Sharp 'Photobombs' Mars Curiosity Rover\n",
       " </a>\n",
       " </div>\n",
       " </div>,\n",
       " <div class=\"slide slick-slide slick-active\" index=\"2\" style=\"width: 278px;\">\n",
       " <div class=\"image_and_description_container\">\n",
       " <a href=\"/news/8299/dust-storms-linked-to-gas-escape-from-mars-atmosphere/\">\n",
       " <div class=\"rollover_description\">\n",
       " <div class=\"rollover_description_inner\">\n",
       " If Mars has a global dust storm in 2018, observations could aid understanding of its effects.\n",
       " </div>\n",
       " <div class=\"overlay_arrow\">\n",
       " <img alt=\"More\" src=\"/assets/overlay-arrow.png\"/>\n",
       " </div>\n",
       " </div>\n",
       " <img alt=\"Dust Storms Linked to Gas Escape from Mars Atmosphere\" class=\"img-lazy\" src=\"/system/news_items/list_view_images/8299_PIA03170_320.jpg?1518058701751\" style=\"opacity: 1;\"/>\n",
       " </a>\n",
       " </div>\n",
       " <div class=\"content_title\">\n",
       " <a href=\"/news/8299/dust-storms-linked-to-gas-escape-from-mars-atmosphere/\">\n",
       " Dust Storms Linked to Gas Escape from Mars Atmosphere\n",
       " </a>\n",
       " </div>\n",
       " </div>,\n",
       " <div class=\"slide slick-slide\" index=\"3\" style=\"width: 278px;\">\n",
       " <div class=\"image_and_description_container\">\n",
       " <a href=\"/news/8298/steep-slopes-on-mars-reveal-structure-of-buried-ice/\">\n",
       " <div class=\"rollover_description\">\n",
       " <div class=\"rollover_description_inner\">\n",
       " Researchers using NASA's Mars Reconnaissance Orbiter have found eight sites where thick deposits of ice beneath Mars' surface are exposed.\n",
       " </div>\n",
       " <div class=\"overlay_arrow\">\n",
       " <img alt=\"More\" src=\"/assets/overlay-arrow.png\"/>\n",
       " </div>\n",
       " </div>\n",
       " <img alt=\"Steep Slopes on Mars Reveal Structure of Buried Ice\" class=\"img-lazy\" data-lazy=\"/system/news_items/list_view_images/8298_PIA22077_320.jpg\" src=\"/assets/loading_320x240.png\"/>\n",
       " </a>\n",
       " </div>\n",
       " <div class=\"content_title\">\n",
       " <a href=\"/news/8298/steep-slopes-on-mars-reveal-structure-of-buried-ice/\">\n",
       " Steep Slopes on Mars Reveal Structure of Buried Ice\n",
       " </a>\n",
       " </div>\n",
       " </div>,\n",
       " <div class=\"slide slick-slide\" index=\"4\" style=\"width: 278px;\">\n",
       " <div class=\"image_and_description_container\">\n",
       " <a href=\"/news/8291/nasa-mars-rover-teams-tilted-winter-strategy-works/\">\n",
       " <div class=\"rollover_description\">\n",
       " <div class=\"rollover_description_inner\">\n",
       " NASA's senior Mars rover, Opportunity, has just passed the shortest-daylight weeks of the long Martian year with its solar panels in encouragingly clean condition for entering a potential dust-storm season in 2018.\n",
       " \n",
       " \n",
       " </div>\n",
       " <div class=\"overlay_arrow\">\n",
       " <img alt=\"More\" src=\"/assets/overlay-arrow.png\"/>\n",
       " </div>\n",
       " </div>\n",
       " <img alt=\"NASA Mars Rover Team's Tilted Winter Strategy Works\" class=\"img-lazy\" data-lazy=\"/system/news_items/list_view_images/8291_PIA22073_Sols4840B-4871B_East_Mosaic_320x240.jpg\" src=\"/assets/loading_320x240.png\"/>\n",
       " </a>\n",
       " </div>\n",
       " <div class=\"content_title\">\n",
       " <a href=\"/news/8291/nasa-mars-rover-teams-tilted-winter-strategy-works/\">\n",
       " NASA Mars Rover Team's Tilted Winter Strategy Works\n",
       " </a>\n",
       " </div>\n",
       " </div>,\n",
       " <div class=\"slide slick-slide\" index=\"5\" style=\"width: 278px;\">\n",
       " <div class=\"image_and_description_container\">\n",
       " <a href=\"/news/8290/nasa-builds-its-next-mars-rover-mission/\">\n",
       " <div class=\"rollover_description\">\n",
       " <div class=\"rollover_description_inner\">\n",
       " In just a few years, NASA's next Mars rover mission will be flying to the Red Planet.\n",
       " </div>\n",
       " <div class=\"overlay_arrow\">\n",
       " <img alt=\"More\" src=\"/assets/overlay-arrow.png\"/>\n",
       " </div>\n",
       " </div>\n",
       " <img alt=\"NASA Builds Its Next Mars Rover Mission\" class=\"img-lazy\" data-lazy=\"/system/news_items/list_view_images/8290_21377_PIA22105-min320.jpeg\" src=\"/assets/loading_320x240.png\"/>\n",
       " </a>\n",
       " </div>\n",
       " <div class=\"content_title\">\n",
       " <a href=\"/news/8290/nasa-builds-its-next-mars-rover-mission/\">\n",
       " NASA Builds Its Next Mars Rover Mission\n",
       " </a>\n",
       " </div>\n",
       " </div>,\n",
       " <div class=\"slide slick-slide slick-cloned\" index=\"6\" style=\"width: 278px;\">\n",
       " <div class=\"image_and_description_container\">\n",
       " <a href=\"/news/8304/nasa-tests-atomic-clock-for-deep-space-navigation/\">\n",
       " <div class=\"rollover_description\">\n",
       " <div class=\"rollover_description_inner\">\n",
       " Project could help spacecraft keep time more efficiently and allow ground stations to better track multiple satellites at once near crowded areas like Mars.\n",
       " </div>\n",
       " <div class=\"overlay_arrow\">\n",
       " <img alt=\"More\" src=\"/assets/overlay-arrow.png\"/>\n",
       " </div>\n",
       " </div>\n",
       " <img alt=\"NASA Tests Atomic Clock for Deep Space Navigation\" class=\"img-lazy\" src=\"/system/news_items/list_view_images/8304_dsac20180206_320.jpg?1518058701751\" style=\"opacity: 1;\"/>\n",
       " </a>\n",
       " </div>\n",
       " <div class=\"content_title\">\n",
       " <a href=\"/news/8304/nasa-tests-atomic-clock-for-deep-space-navigation/\">\n",
       " NASA Tests Atomic Clock for Deep Space Navigation\n",
       " </a>\n",
       " </div>\n",
       " </div>,\n",
       " <div class=\"slide slick-slide slick-cloned\" index=\"7\" style=\"width: 278px;\">\n",
       " <div class=\"image_and_description_container\">\n",
       " <a href=\"/news/8303/mount-sharp-photobombs-mars-curiosity-rover/\">\n",
       " <div class=\"rollover_description\">\n",
       " <div class=\"rollover_description_inner\">\n",
       " A new self-portrait of NASA's Curiosity Mars rover shows the vehicle on Vera Rubin Ridge.\n",
       " </div>\n",
       " <div class=\"overlay_arrow\">\n",
       " <img alt=\"More\" src=\"/assets/overlay-arrow.png\"/>\n",
       " </div>\n",
       " </div>\n",
       " <img alt=\"Mount Sharp 'Photobombs' Mars Curiosity Rover\" class=\"img-lazy\" src=\"/system/news_items/list_view_images/8303_pia22207_320.jpg?1518058701751\" style=\"opacity: 1;\"/>\n",
       " </a>\n",
       " </div>\n",
       " <div class=\"content_title\">\n",
       " <a href=\"/news/8303/mount-sharp-photobombs-mars-curiosity-rover/\">\n",
       " Mount Sharp 'Photobombs' Mars Curiosity Rover\n",
       " </a>\n",
       " </div>\n",
       " </div>,\n",
       " <div class=\"slide slick-slide slick-cloned\" index=\"8\" style=\"width: 278px;\">\n",
       " <div class=\"image_and_description_container\">\n",
       " <a href=\"/news/8299/dust-storms-linked-to-gas-escape-from-mars-atmosphere/\">\n",
       " <div class=\"rollover_description\">\n",
       " <div class=\"rollover_description_inner\">\n",
       " If Mars has a global dust storm in 2018, observations could aid understanding of its effects.\n",
       " </div>\n",
       " <div class=\"overlay_arrow\">\n",
       " <img alt=\"More\" src=\"/assets/overlay-arrow.png\"/>\n",
       " </div>\n",
       " </div>\n",
       " <img alt=\"Dust Storms Linked to Gas Escape from Mars Atmosphere\" class=\"img-lazy\" src=\"/system/news_items/list_view_images/8299_PIA03170_320.jpg?1518058701751\" style=\"opacity: 1;\"/>\n",
       " </a>\n",
       " </div>\n",
       " <div class=\"content_title\">\n",
       " <a href=\"/news/8299/dust-storms-linked-to-gas-escape-from-mars-atmosphere/\">\n",
       " Dust Storms Linked to Gas Escape from Mars Atmosphere\n",
       " </a>\n",
       " </div>\n",
       " </div>]"
      ]
     },
     "execution_count": 5,
     "metadata": {},
     "output_type": "execute_result"
    }
   ],
   "source": [
    "results=soup.find_all(\"div\", class_=\"slide\")\n",
    "results"
   ]
  },
  {
   "cell_type": "code",
   "execution_count": 6,
   "metadata": {},
   "outputs": [
    {
     "name": "stdout",
     "output_type": "stream",
     "text": [
      "\n",
      "\n",
      "Steep Slopes on Mars Reveal Structure of Buried Ice\n",
      "\n",
      "\n",
      "\n",
      "Researchers using NASA's Mars Reconnaissance Orbiter have found eight sites where thick deposits of ice beneath Mars' surface are exposed.\n",
      "\n",
      "\n",
      "\n",
      "NASA Mars Rover Team's Tilted Winter Strategy Works\n",
      "\n",
      "\n",
      "\n",
      "NASA's senior Mars rover, Opportunity, has just passed the shortest-daylight weeks of the long Martian year with its solar panels in encouragingly clean condition for entering a potential dust-storm season in 2018.\n",
      "\n",
      "\n",
      "\n",
      "\n",
      "\n",
      "NASA Builds Its Next Mars Rover Mission\n",
      "\n",
      "\n",
      "\n",
      "In just a few years, NASA's next Mars rover mission will be flying to the Red Planet.\n",
      "\n",
      "\n",
      "\n",
      "NASA Tests Atomic Clock for Deep Space Navigation\n",
      "\n",
      "\n",
      "\n",
      "Project could help spacecraft keep time more efficiently and allow ground stations to better track multiple satellites at once near crowded areas like Mars.\n",
      "\n",
      "\n",
      "\n",
      "Mount Sharp 'Photobombs' Mars Curiosity Rover\n",
      "\n",
      "\n",
      "\n",
      "A new self-portrait of NASA's Curiosity Mars rover shows the vehicle on Vera Rubin Ridge.\n",
      "\n",
      "\n",
      "\n",
      "Dust Storms Linked to Gas Escape from Mars Atmosphere\n",
      "\n",
      "\n",
      "\n",
      "If Mars has a global dust storm in 2018, observations could aid understanding of its effects.\n",
      "\n",
      "\n",
      "\n",
      "Steep Slopes on Mars Reveal Structure of Buried Ice\n",
      "\n",
      "\n",
      "\n",
      "Researchers using NASA's Mars Reconnaissance Orbiter have found eight sites where thick deposits of ice beneath Mars' surface are exposed.\n",
      "\n",
      "\n",
      "\n",
      "NASA Mars Rover Team's Tilted Winter Strategy Works\n",
      "\n",
      "\n",
      "\n",
      "NASA's senior Mars rover, Opportunity, has just passed the shortest-daylight weeks of the long Martian year with its solar panels in encouragingly clean condition for entering a potential dust-storm season in 2018.\n",
      "\n",
      "\n",
      "\n",
      "\n",
      "\n",
      "NASA Builds Its Next Mars Rover Mission\n",
      "\n",
      "\n",
      "\n",
      "In just a few years, NASA's next Mars rover mission will be flying to the Red Planet.\n",
      "\n",
      "\n",
      "\n",
      "NASA Tests Atomic Clock for Deep Space Navigation\n",
      "\n",
      "\n",
      "\n",
      "Project could help spacecraft keep time more efficiently and allow ground stations to better track multiple satellites at once near crowded areas like Mars.\n",
      "\n",
      "\n",
      "\n",
      "Mount Sharp 'Photobombs' Mars Curiosity Rover\n",
      "\n",
      "\n",
      "\n",
      "A new self-portrait of NASA's Curiosity Mars rover shows the vehicle on Vera Rubin Ridge.\n",
      "\n",
      "\n",
      "\n",
      "Dust Storms Linked to Gas Escape from Mars Atmosphere\n",
      "\n",
      "\n",
      "\n",
      "If Mars has a global dust storm in 2018, observations could aid understanding of its effects.\n",
      "\n"
     ]
    }
   ],
   "source": [
    "for result in results:\n",
    "    titles= result.find(\"div\", class_=\"content_title\").text\n",
    "    paragraphs= result.find(\"div\", class_=\"rollover_description_inner\").text\n",
    "    \n",
    "    print(titles)\n",
    "    print(paragraphs)\n",
    "    \n",
    "    post={\n",
    "        \"Title\":titles,\n",
    "        \"Paragraph\":paragraphs\n",
    "    }\n",
    "    \n",
    "    "
   ]
  },
  {
   "cell_type": "code",
   "execution_count": 7,
   "metadata": {
    "collapsed": true
   },
   "outputs": [],
   "source": [
    "# JPL scrapping feature image\n",
    "jpl_url = 'https://www.jpl.nasa.gov/spaceimages/?search=&category=Mars'\n",
    "browser.visit(jpl_url)"
   ]
  },
  {
   "cell_type": "code",
   "execution_count": 8,
   "metadata": {
    "collapsed": true
   },
   "outputs": [],
   "source": [
    "html = browser.html\n",
    "soup = BeautifulSoup(html, 'html.parser')"
   ]
  },
  {
   "cell_type": "code",
   "execution_count": 11,
   "metadata": {},
   "outputs": [
    {
     "data": {
      "text/plain": [
       "[<article alt=\"Comets Kick up Dust in Helix Nebula\" class=\"carousel_item\" style=\"background-image: url('/spaceimages/images/wallpaper/PIA09178-1920x1200.jpg');\">\n",
       " <div class=\"default floating_text_area ms-layer\">\n",
       " <h2 class=\"category_title\">\n",
       " </h2>\n",
       " <h2 class=\"brand_title\">\n",
       " \t\t\t\t  FEATURED IMAGE\n",
       " \t\t\t\t</h2>\n",
       " <h1 class=\"media_feature_title\">\n",
       " \t\t\t\t  Comets Kick up Dust in Helix Nebula\t\t\t\t</h1>\n",
       " <div class=\"description\">\n",
       " </div>\n",
       " <footer>\n",
       " <a class=\"button fancybox\" data-description=\"This infrared image from NASA's Spitzer Space Telescope shows the Helix nebula, a cosmic starlet often photographed by amateur astronomers for its vivid colors and eerie resemblance to a giant eye.\" data-fancybox-group=\"images\" data-fancybox-href=\"/spaceimages/images/mediumsize/PIA09178_ip.jpg\" data-link=\"/spaceimages/details.php?id=PIA09178\" data-title=\"Comets Kick up Dust in Helix Nebula\" id=\"full_image\">\n",
       " \t\t\t\t\tFULL IMAGE\n",
       " \t\t\t\t  </a>\n",
       " </footer>\n",
       " </div>\n",
       " <div class=\"gradient_container_top\"></div>\n",
       " <div class=\"gradient_container_bottom\"></div>\n",
       " </article>]"
      ]
     },
     "execution_count": 11,
     "metadata": {},
     "output_type": "execute_result"
    }
   ],
   "source": [
    "images=soup.find_all(\"article\", class_=\"carousel_item\")\n",
    "images"
   ]
  },
  {
   "cell_type": "code",
   "execution_count": 15,
   "metadata": {},
   "outputs": [
    {
     "name": "stdout",
     "output_type": "stream",
     "text": [
      "https://www.jpl.nasa.gov/spaceimages/images/mediumsize/PIA09178_ip.jpg\n"
     ]
    }
   ],
   "source": [
    "for image in images:\n",
    "    featured_image_url= image.a['data-fancybox-href']\n",
    "    \n",
    "    print('https://www.jpl.nasa.gov'+featured_image_url)\n",
    "  \n",
    "   "
   ]
  },
  {
   "cell_type": "code",
   "execution_count": 26,
   "metadata": {
    "collapsed": true
   },
   "outputs": [],
   "source": [
    "# Scrapping Weather - Mars Twitter\n",
    "twitter_url=\"https://twitter.com/marswxreport?lang=en\"\n",
    "browser.visit(twitter_url)\n",
    "html = browser.html\n",
    "soup = BeautifulSoup(html, 'html.parser')"
   ]
  },
  {
   "cell_type": "code",
   "execution_count": 53,
   "metadata": {},
   "outputs": [
    {
     "name": "stdout",
     "output_type": "stream",
     "text": [
      "Sol 1955 (Feb 04, 2018), Sunny, high -21C/-5F, low -77C/-106F, pressure at 7.45 hPa, daylight 05:41-17:27\n"
     ]
    }
   ],
   "source": [
    "mars_weather= soup.find(\"p\", class_=\"TweetTextSize TweetTextSize--normal js-tweet-text tweet-text\")\n",
    "print(mars_weather.text.strip())"
   ]
  },
  {
   "cell_type": "code",
   "execution_count": null,
   "metadata": {},
   "outputs": [],
   "source": [
    "# Mars facts\n",
    "#mars_facts=\"https://space-facts.com/mars/\"\n",
    "#browser.visit(twitter_url)\n",
    "#html = browser.html\n",
    "#soup = BeautifulSoup(html, 'html.parser')"
   ]
  },
  {
   "cell_type": "code",
   "execution_count": 80,
   "metadata": {},
   "outputs": [
    {
     "data": {
      "text/html": [
       "<div>\n",
       "<style>\n",
       "    .dataframe thead tr:only-child th {\n",
       "        text-align: right;\n",
       "    }\n",
       "\n",
       "    .dataframe thead th {\n",
       "        text-align: left;\n",
       "    }\n",
       "\n",
       "    .dataframe tbody tr th {\n",
       "        vertical-align: top;\n",
       "    }\n",
       "</style>\n",
       "<table border=\"1\" class=\"dataframe\">\n",
       "  <thead>\n",
       "    <tr style=\"text-align: right;\">\n",
       "      <th></th>\n",
       "      <th>0</th>\n",
       "    </tr>\n",
       "  </thead>\n",
       "  <tbody>\n",
       "    <tr>\n",
       "      <th>0</th>\n",
       "      <td>0                       ...</td>\n",
       "    </tr>\n",
       "  </tbody>\n",
       "</table>\n",
       "</div>"
      ],
      "text/plain": [
       "                                                   0\n",
       "0                        0                       ..."
      ]
     },
     "execution_count": 80,
     "metadata": {},
     "output_type": "execute_result"
    }
   ],
   "source": [
    "facts=pd.read_html(\"https://space-facts.com/mars/\",flavor='bs4')\n",
    "facts=pd.DataFrame(facts)\n",
    "facts\n"
   ]
  },
  {
   "cell_type": "code",
   "execution_count": 66,
   "metadata": {},
   "outputs": [
    {
     "ename": "NameError",
     "evalue": "name 'safe' is not defined",
     "output_type": "error",
     "traceback": [
      "\u001b[1;31m---------------------------------------------------------------------------\u001b[0m",
      "\u001b[1;31mNameError\u001b[0m                                 Traceback (most recent call last)",
      "\u001b[1;32m<ipython-input-66-06d9dc4fec9f>\u001b[0m in \u001b[0;36m<module>\u001b[1;34m()\u001b[0m\n\u001b[1;32m----> 1\u001b[1;33m \u001b[0mmars_facts\u001b[0m\u001b[1;33m=\u001b[0m\u001b[1;33m{\u001b[0m\u001b[1;33m{\u001b[0m\u001b[0mfacts\u001b[0m\u001b[1;33m|\u001b[0m\u001b[0msafe\u001b[0m\u001b[1;33m}\u001b[0m\u001b[1;33m}\u001b[0m\u001b[1;33m\u001b[0m\u001b[0m\n\u001b[0m",
      "\u001b[1;31mNameError\u001b[0m: name 'safe' is not defined"
     ]
    }
   ],
   "source": []
  },
  {
   "cell_type": "code",
   "execution_count": 68,
   "metadata": {},
   "outputs": [
    {
     "ename": "SyntaxError",
     "evalue": "invalid syntax (<ipython-input-68-1e7f63a6de24>, line 1)",
     "output_type": "error",
     "traceback": [
      "\u001b[1;36m  File \u001b[1;32m\"<ipython-input-68-1e7f63a6de24>\"\u001b[1;36m, line \u001b[1;32m1\u001b[0m\n\u001b[1;33m    pip install dryscape\u001b[0m\n\u001b[1;37m              ^\u001b[0m\n\u001b[1;31mSyntaxError\u001b[0m\u001b[1;31m:\u001b[0m invalid syntax\n"
     ]
    }
   ],
   "source": [
    "pip install dryscape\n",
    "import pandas as pd\n",
    "import dryscrape\n",
    "\n",
    "s = dryscrape.Session()\n",
    "s.visit(\"https://space-facts.com/mars/\")\n",
    "df = pd.read_html(s.body())\n",
    "df.head()"
   ]
  },
  {
   "cell_type": "code",
   "execution_count": null,
   "metadata": {
    "collapsed": true
   },
   "outputs": [],
   "source": []
  }
 ],
 "metadata": {
  "kernelspec": {
   "display_name": "Python 3",
   "language": "python",
   "name": "python3"
  },
  "language_info": {
   "codemirror_mode": {
    "name": "ipython",
    "version": 3
   },
   "file_extension": ".py",
   "mimetype": "text/x-python",
   "name": "python",
   "nbconvert_exporter": "python",
   "pygments_lexer": "ipython3",
   "version": "3.6.2"
  }
 },
 "nbformat": 4,
 "nbformat_minor": 2
}
